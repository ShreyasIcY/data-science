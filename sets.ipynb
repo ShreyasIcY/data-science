{
 "cells": [
  {
   "cell_type": "markdown",
   "id": "0667d3d5-ce6c-4a7b-b44d-2ea5871c0292",
   "metadata": {},
   "source": [
    "# Sets"
   ]
  },
  {
   "cell_type": "code",
   "execution_count": 2,
   "id": "4f353278-4723-4ab9-8e8d-2908c38fd2ee",
   "metadata": {},
   "outputs": [],
   "source": [
    "# sets are used to store unique values and does not allow duplicate values\n",
    "# indexing does not work in sets \n",
    "# "
   ]
  },
  {
   "cell_type": "code",
   "execution_count": 4,
   "id": "41f2f20b-e9e3-4343-aa79-1438fdc39d15",
   "metadata": {},
   "outputs": [],
   "source": [
    "set1={} # empty set cannot be created by curly braces  it identifies as dict"
   ]
  },
  {
   "cell_type": "code",
   "execution_count": 6,
   "id": "edba5c77-cbc2-4c7d-b18d-283a71d9aaf8",
   "metadata": {},
   "outputs": [
    {
     "data": {
      "text/plain": [
       "dict"
      ]
     },
     "execution_count": 6,
     "metadata": {},
     "output_type": "execute_result"
    }
   ],
   "source": [
    "type(set1) "
   ]
  },
  {
   "cell_type": "code",
   "execution_count": 10,
   "id": "24d452c7-77f7-4018-b313-b26af891e853",
   "metadata": {},
   "outputs": [
    {
     "data": {
      "text/plain": [
       "{1, 2, 3, 4, 5, 6, 7, 8, 9}"
      ]
     },
     "execution_count": 10,
     "metadata": {},
     "output_type": "execute_result"
    }
   ],
   "source": [
    "set1={1,2,3,4,5,6,7,8,9}\n",
    "set1"
   ]
  },
  {
   "cell_type": "code",
   "execution_count": 18,
   "id": "ca7286c8-cbec-4612-ab4d-adf572287a92",
   "metadata": {},
   "outputs": [
    {
     "data": {
      "text/plain": [
       "{(4, 6, 7, 8, 9), 2, 3.4, 4, 4.2, 5.3, 8, 'ert', 'shr'}"
      ]
     },
     "execution_count": 18,
     "metadata": {},
     "output_type": "execute_result"
    }
   ],
   "source": [
    "set2={2,3.4,4.2,5.3,4,8,2,8,\"shr\",\"ert\",(4,6,7,8,9)}\n",
    "set2"
   ]
  },
  {
   "cell_type": "code",
   "execution_count": 28,
   "id": "859b6068-0ccd-4c49-80be-4834e51b3d0c",
   "metadata": {},
   "outputs": [
    {
     "data": {
      "text/plain": [
       "{(4, 6, 7, 8, 9), 2, 3.4, 4, 4.2, 5.3, 6, '6', 8, 'ert', 'shr'}"
      ]
     },
     "execution_count": 28,
     "metadata": {},
     "output_type": "execute_result"
    }
   ],
   "source": [
    "set2.add(5.3)# duplicate values cannot be added in set\n",
    "set2"
   ]
  },
  {
   "cell_type": "code",
   "execution_count": 30,
   "id": "261c2940-e850-45cc-aac5-5cea32819f59",
   "metadata": {},
   "outputs": [
    {
     "ename": "TypeError",
     "evalue": "'set' object is not subscriptable",
     "output_type": "error",
     "traceback": [
      "\u001b[1;31m---------------------------------------------------------------------------\u001b[0m",
      "\u001b[1;31mTypeError\u001b[0m                                 Traceback (most recent call last)",
      "Cell \u001b[1;32mIn[30], line 1\u001b[0m\n\u001b[1;32m----> 1\u001b[0m set2[\u001b[38;5;241m2\u001b[39m]\n",
      "\u001b[1;31mTypeError\u001b[0m: 'set' object is not subscriptable"
     ]
    }
   ],
   "source": [
    "set2[2] # indexing and slicing is not supported in sets"
   ]
  },
  {
   "cell_type": "code",
   "execution_count": 32,
   "id": "922172c6-6ad9-4c06-b277-9db642deac0e",
   "metadata": {},
   "outputs": [],
   "source": [
    "set2.update([41,32,56,87,93,78])"
   ]
  },
  {
   "cell_type": "code",
   "execution_count": 34,
   "id": "f62d2575-66df-4c48-9440-4359b3731357",
   "metadata": {},
   "outputs": [
    {
     "data": {
      "text/plain": [
       "{(4, 6, 7, 8, 9),\n",
       " 2,\n",
       " 3.4,\n",
       " 32,\n",
       " 4,\n",
       " 4.2,\n",
       " 41,\n",
       " 5.3,\n",
       " 56,\n",
       " 6,\n",
       " '6',\n",
       " 78,\n",
       " 8,\n",
       " 87,\n",
       " 93,\n",
       " 'ert',\n",
       " 'shr'}"
      ]
     },
     "execution_count": 34,
     "metadata": {},
     "output_type": "execute_result"
    }
   ],
   "source": [
    "set2"
   ]
  },
  {
   "cell_type": "code",
   "execution_count": 40,
   "id": "8f465476-6662-46bf-bb29-676140ef2cbd",
   "metadata": {},
   "outputs": [
    {
     "data": {
      "text/plain": [
       "{2, 3.4, 32, 4, 4.2, 41, 5.3, 6, '6', 78, 8, 87, 93, 'ert', 'shr'}"
      ]
     },
     "execution_count": 40,
     "metadata": {},
     "output_type": "execute_result"
    }
   ],
   "source": [
    "set2.remove(56)\n",
    "set2"
   ]
  },
  {
   "cell_type": "code",
   "execution_count": 42,
   "id": "694a9116-1648-47ce-8c3a-be60924efffc",
   "metadata": {},
   "outputs": [
    {
     "data": {
      "text/plain": [
       "{2, 3.4, 32, 4, 4.2, 41, 5.3, 6, 78, 8, 87, 93, 'ert', 'shr'}"
      ]
     },
     "execution_count": 42,
     "metadata": {},
     "output_type": "execute_result"
    }
   ],
   "source": [
    "set2.discard('6')\n",
    "set2"
   ]
  },
  {
   "cell_type": "code",
   "execution_count": 44,
   "id": "739ab22b-b0ea-48a3-a517-66bcfa67ea05",
   "metadata": {},
   "outputs": [],
   "source": [
    "set2.clear() # deletes all the elements in the set "
   ]
  },
  {
   "cell_type": "code",
   "execution_count": 46,
   "id": "cb083074-f918-4c9b-ad61-81997fae0652",
   "metadata": {},
   "outputs": [
    {
     "data": {
      "text/plain": [
       "set()"
      ]
     },
     "execution_count": 46,
     "metadata": {},
     "output_type": "execute_result"
    }
   ],
   "source": [
    "set2"
   ]
  },
  {
   "cell_type": "code",
   "execution_count": 48,
   "id": "d35f19af-029f-46f7-a221-692b99faae02",
   "metadata": {},
   "outputs": [],
   "source": [
    "del set2 # deletes the set object"
   ]
  },
  {
   "cell_type": "code",
   "execution_count": 50,
   "id": "1a759f19-e1e6-42fe-bbb6-6092ef466bf2",
   "metadata": {},
   "outputs": [
    {
     "ename": "NameError",
     "evalue": "name 'set2' is not defined",
     "output_type": "error",
     "traceback": [
      "\u001b[1;31m---------------------------------------------------------------------------\u001b[0m",
      "\u001b[1;31mNameError\u001b[0m                                 Traceback (most recent call last)",
      "Cell \u001b[1;32mIn[50], line 1\u001b[0m\n\u001b[1;32m----> 1\u001b[0m set2\n",
      "\u001b[1;31mNameError\u001b[0m: name 'set2' is not defined"
     ]
    }
   ],
   "source": [
    "set2"
   ]
  },
  {
   "cell_type": "markdown",
   "id": "30522e30-45e3-4c11-b199-f266c0fa2125",
   "metadata": {},
   "source": [
    "# Set operations"
   ]
  },
  {
   "cell_type": "code",
   "execution_count": 85,
   "id": "8a43ff05-d48a-46e9-87b5-c60a3b1ec350",
   "metadata": {},
   "outputs": [],
   "source": [
    "a={1,2,3,4,5,6}\n",
    "b={7,8,9,12,2,345,67}\n",
    "c={4,3,2,7,45,23,5,8,9}"
   ]
  },
  {
   "cell_type": "code",
   "execution_count": 55,
   "id": "84d6fa9f-5232-49b8-a6f4-7f04ffed9a8d",
   "metadata": {},
   "outputs": [
    {
     "data": {
      "text/plain": [
       "{1, 2, 3, 4, 5, 6, 7, 8, 9, 12, 67, 345}"
      ]
     },
     "execution_count": 55,
     "metadata": {},
     "output_type": "execute_result"
    }
   ],
   "source": [
    "a.union(b)"
   ]
  },
  {
   "cell_type": "code",
   "execution_count": 63,
   "id": "7b1b8d5f-85bf-4a1c-b7f8-74119f8487c2",
   "metadata": {},
   "outputs": [],
   "source": [
    "a.update([10])"
   ]
  },
  {
   "cell_type": "code",
   "execution_count": 65,
   "id": "7b354ee8-0846-4d42-bd85-a536922aa109",
   "metadata": {},
   "outputs": [
    {
     "data": {
      "text/plain": [
       "{1, 2, 3, 4, 5, 6, 10}"
      ]
     },
     "execution_count": 65,
     "metadata": {},
     "output_type": "execute_result"
    }
   ],
   "source": [
    "a"
   ]
  },
  {
   "cell_type": "code",
   "execution_count": 67,
   "id": "a589e34e-c7a5-4596-863b-e198249b9c99",
   "metadata": {},
   "outputs": [
    {
     "data": {
      "text/plain": [
       "{1, 2, 3, 4, 5, 6, 7, 8, 9, 10, 12, 67, 345}"
      ]
     },
     "execution_count": 67,
     "metadata": {},
     "output_type": "execute_result"
    }
   ],
   "source": [
    "a.union(b)"
   ]
  },
  {
   "cell_type": "code",
   "execution_count": 69,
   "id": "dc604148-dc93-4fee-808b-2ac64bcb7fd9",
   "metadata": {},
   "outputs": [
    {
     "data": {
      "text/plain": [
       "{1, 2, 3, 4, 5, 6, 7, 8, 9, 10, 12, 23, 45, 67, 345}"
      ]
     },
     "execution_count": 69,
     "metadata": {},
     "output_type": "execute_result"
    }
   ],
   "source": [
    "a.union(b,c)"
   ]
  },
  {
   "cell_type": "code",
   "execution_count": 73,
   "id": "93b42689-283c-4087-bd5e-dcdd3e15a74a",
   "metadata": {},
   "outputs": [
    {
     "data": {
      "text/plain": [
       "{2, 3, 4, 5}"
      ]
     },
     "execution_count": 73,
     "metadata": {},
     "output_type": "execute_result"
    }
   ],
   "source": [
    "a.intersection(c)"
   ]
  },
  {
   "cell_type": "code",
   "execution_count": 83,
   "id": "258d502f-2912-470a-8835-447ec631445c",
   "metadata": {},
   "outputs": [
    {
     "data": {
      "text/plain": [
       "{3, 4, 5, 23, 45}"
      ]
     },
     "execution_count": 83,
     "metadata": {},
     "output_type": "execute_result"
    }
   ],
   "source": [
    "c.difference(b)"
   ]
  },
  {
   "cell_type": "code",
   "execution_count": 87,
   "id": "ff6c458e-642f-4a6c-9cc7-26a5426dbad7",
   "metadata": {},
   "outputs": [
    {
     "data": {
      "text/plain": [
       "{2, 7, 8, 9}"
      ]
     },
     "execution_count": 87,
     "metadata": {},
     "output_type": "execute_result"
    }
   ],
   "source": [
    "b.intersection(c)"
   ]
  },
  {
   "cell_type": "code",
   "execution_count": 89,
   "id": "eaef2efe-04cd-4079-99e9-fda75fdc6e8e",
   "metadata": {},
   "outputs": [
    {
     "data": {
      "text/plain": [
       "{1, 3, 4, 5, 6, 7, 8, 9, 12, 67, 345}"
      ]
     },
     "execution_count": 89,
     "metadata": {},
     "output_type": "execute_result"
    }
   ],
   "source": [
    "a.union(b)-a.intersection(b)"
   ]
  },
  {
   "cell_type": "code",
   "execution_count": 93,
   "id": "ed960d30-e202-45c3-bb2f-937dd6da8d73",
   "metadata": {},
   "outputs": [
    {
     "data": {
      "text/plain": [
       "{1, 3, 4, 5, 6, 7, 8, 9, 12, 67, 345}"
      ]
     },
     "execution_count": 93,
     "metadata": {},
     "output_type": "execute_result"
    }
   ],
   "source": [
    "# another method\n",
    "a.difference(b).union(b.difference(a))"
   ]
  },
  {
   "cell_type": "code",
   "execution_count": null,
   "id": "4f5942e3-4dbd-4151-b106-71d58dd8aaf8",
   "metadata": {},
   "outputs": [],
   "source": []
  },
  {
   "cell_type": "code",
   "execution_count": null,
   "id": "866530a0-0936-4138-8679-f8364cdaf3dd",
   "metadata": {},
   "outputs": [],
   "source": []
  }
 ],
 "metadata": {
  "kernelspec": {
   "display_name": "Python 3 (ipykernel)",
   "language": "python",
   "name": "python3"
  },
  "language_info": {
   "codemirror_mode": {
    "name": "ipython",
    "version": 3
   },
   "file_extension": ".py",
   "mimetype": "text/x-python",
   "name": "python",
   "nbconvert_exporter": "python",
   "pygments_lexer": "ipython3",
   "version": "3.12.4"
  }
 },
 "nbformat": 4,
 "nbformat_minor": 5
}

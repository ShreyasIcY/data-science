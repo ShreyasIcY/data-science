{
 "cells": [
  {
   "cell_type": "code",
   "execution_count": 1,
   "id": "c3a31d4e-a3f8-47f0-ad91-53a35e5b4465",
   "metadata": {},
   "outputs": [
    {
     "data": {
      "text/plain": [
       "tuple"
      ]
     },
     "execution_count": 1,
     "metadata": {},
     "output_type": "execute_result"
    }
   ],
   "source": [
    "t=()\n",
    "type(t)"
   ]
  },
  {
   "cell_type": "code",
   "execution_count": 5,
   "id": "d69de3ba-6471-40c8-ad3f-0a6529ebde3d",
   "metadata": {},
   "outputs": [
    {
     "name": "stdout",
     "output_type": "stream",
     "text": [
      "<class 'tuple'>\n"
     ]
    }
   ],
   "source": [
    "t1=()\n",
    "print(type(t1))"
   ]
  },
  {
   "cell_type": "code",
   "execution_count": 7,
   "id": "85a98e70-f832-4f88-94a7-6c354e5cb4d2",
   "metadata": {},
   "outputs": [],
   "source": [
    "t2=(2,4,6,3,6,8,36,47,)"
   ]
  },
  {
   "cell_type": "code",
   "execution_count": 9,
   "id": "37944281-5f63-4c9c-bfb9-c9f88f4a7a5e",
   "metadata": {},
   "outputs": [
    {
     "data": {
      "text/plain": [
       "3"
      ]
     },
     "execution_count": 9,
     "metadata": {},
     "output_type": "execute_result"
    }
   ],
   "source": [
    "t2[3]"
   ]
  },
  {
   "cell_type": "code",
   "execution_count": 15,
   "id": "77a587e8-7ee6-4e04-8bb4-598689d04d1a",
   "metadata": {},
   "outputs": [
    {
     "data": {
      "text/plain": [
       "[3, 5, 8, 6, 3, 6, 3, 7, 8, 0]"
      ]
     },
     "execution_count": 15,
     "metadata": {},
     "output_type": "execute_result"
    }
   ],
   "source": [
    "t3=(4,[3,5,8,6,3,6,3,7,8,0])\n",
    "t3[1]"
   ]
  },
  {
   "cell_type": "code",
   "execution_count": 17,
   "id": "3355861e-7d89-49d6-9317-74cbfb0aa77f",
   "metadata": {},
   "outputs": [],
   "source": [
    "t4=t2+t3"
   ]
  },
  {
   "cell_type": "code",
   "execution_count": 19,
   "id": "29af900d-cd80-47bd-89ae-0b331228d676",
   "metadata": {},
   "outputs": [
    {
     "data": {
      "text/plain": [
       "(2, 4, 6, 3, 6, 8, 36, 47, 4, [3, 5, 8, 6, 3, 6, 3, 7, 8, 0])"
      ]
     },
     "execution_count": 19,
     "metadata": {},
     "output_type": "execute_result"
    }
   ],
   "source": [
    "t4"
   ]
  },
  {
   "cell_type": "code",
   "execution_count": 25,
   "id": "b93a568b-7d87-457c-880b-8fb3d869a0bb",
   "metadata": {},
   "outputs": [
    {
     "data": {
      "text/plain": [
       "(2, 4, 6, 3)"
      ]
     },
     "execution_count": 25,
     "metadata": {},
     "output_type": "execute_result"
    }
   ],
   "source": [
    "t4[0:4] # slicing"
   ]
  },
  {
   "cell_type": "code",
   "execution_count": 27,
   "id": "2bb1f2b6-56c0-401b-9c95-40eb777269fc",
   "metadata": {},
   "outputs": [
    {
     "data": {
      "text/plain": [
       "6"
      ]
     },
     "execution_count": 27,
     "metadata": {},
     "output_type": "execute_result"
    }
   ],
   "source": [
    "t4[4]"
   ]
  },
  {
   "cell_type": "code",
   "execution_count": 29,
   "id": "114817f5-9d70-4089-9332-a2c4d0264055",
   "metadata": {},
   "outputs": [
    {
     "ename": "TypeError",
     "evalue": "'tuple' object does not support item assignment",
     "output_type": "error",
     "traceback": [
      "\u001b[1;31m---------------------------------------------------------------------------\u001b[0m",
      "\u001b[1;31mTypeError\u001b[0m                                 Traceback (most recent call last)",
      "Cell \u001b[1;32mIn[29], line 1\u001b[0m\n\u001b[1;32m----> 1\u001b[0m t4[\u001b[38;5;241m9\u001b[39m]\u001b[38;5;241m=\u001b[39m\u001b[38;5;241m67\u001b[39m\n",
      "\u001b[1;31mTypeError\u001b[0m: 'tuple' object does not support item assignment"
     ]
    }
   ],
   "source": [
    "t4[9]=67 # here we are accessing tuple element"
   ]
  },
  {
   "cell_type": "code",
   "execution_count": 33,
   "id": "7968e8ed-59d8-42cf-85f6-be8c6d92969d",
   "metadata": {},
   "outputs": [],
   "source": [
    "t4[9][5]=45 # here the tuples value can be changed because we fetched the list inside the tuple "
   ]
  },
  {
   "cell_type": "code",
   "execution_count": 35,
   "id": "6335b4e4-17b8-4f36-93aa-e922ed452a38",
   "metadata": {},
   "outputs": [
    {
     "data": {
      "text/plain": [
       "(2, 4, 6, 3, 6, 8, 36, 47, 4, [3, 5, 8, 6, 3, 45, 3, 7, 8, 0])"
      ]
     },
     "execution_count": 35,
     "metadata": {},
     "output_type": "execute_result"
    }
   ],
   "source": [
    "t4"
   ]
  },
  {
   "cell_type": "code",
   "execution_count": 37,
   "id": "f88f3f56-106d-4081-9181-0a674cb40113",
   "metadata": {},
   "outputs": [],
   "source": [
    "t5=('one','two','three','four','one','five','three','one')"
   ]
  },
  {
   "cell_type": "code",
   "execution_count": 43,
   "id": "dd444e2d-b733-4e65-8ad0-4dee929240d9",
   "metadata": {},
   "outputs": [
    {
     "data": {
      "text/plain": [
       "8"
      ]
     },
     "execution_count": 43,
     "metadata": {},
     "output_type": "execute_result"
    }
   ],
   "source": [
    "len(t5)"
   ]
  },
  {
   "cell_type": "code",
   "execution_count": 54,
   "id": "38b71585-0892-423a-a374-da9cca5e8644",
   "metadata": {},
   "outputs": [
    {
     "data": {
      "text/plain": [
       "['five', 'four', 'one', 'one', 'one', 'three', 'three', 'two']"
      ]
     },
     "execution_count": 54,
     "metadata": {},
     "output_type": "execute_result"
    }
   ],
   "source": [
    "sorted(t5) # it just sorts the list and not change the original value"
   ]
  },
  {
   "cell_type": "code",
   "execution_count": 56,
   "id": "ed440706-1b41-4896-9cd5-8080e75959da",
   "metadata": {},
   "outputs": [
    {
     "data": {
      "text/plain": [
       "['two', 'three', 'three', 'one', 'one', 'one', 'four', 'five']"
      ]
     },
     "execution_count": 56,
     "metadata": {},
     "output_type": "execute_result"
    }
   ],
   "source": [
    "sorted(t5,reverse=True) ## sorts and print the tuple in reverse "
   ]
  },
  {
   "cell_type": "code",
   "execution_count": 58,
   "id": "d5e86caa-f2ef-4a8f-9e7c-46aa2f292460",
   "metadata": {},
   "outputs": [],
   "source": [
    "t6=(5,6,7,2,7,'67','78')"
   ]
  },
  {
   "cell_type": "code",
   "execution_count": 60,
   "id": "27398df3-655c-4fe4-b960-f065ca7411bc",
   "metadata": {},
   "outputs": [
    {
     "ename": "TypeError",
     "evalue": "'<' not supported between instances of 'str' and 'int'",
     "output_type": "error",
     "traceback": [
      "\u001b[1;31m---------------------------------------------------------------------------\u001b[0m",
      "\u001b[1;31mTypeError\u001b[0m                                 Traceback (most recent call last)",
      "Cell \u001b[1;32mIn[60], line 1\u001b[0m\n\u001b[1;32m----> 1\u001b[0m \u001b[38;5;28msorted\u001b[39m(t6)\n",
      "\u001b[1;31mTypeError\u001b[0m: '<' not supported between instances of 'str' and 'int'"
     ]
    }
   ],
   "source": [
    "sorted(t6) # occurs string and interger cannot occur in same tuple "
   ]
  },
  {
   "cell_type": "code",
   "execution_count": null,
   "id": "3bb37419-d1f7-49cf-a660-12c8ed5ab365",
   "metadata": {},
   "outputs": [],
   "source": [
    "## sort list without using sort function \n"
   ]
  }
 ],
 "metadata": {
  "kernelspec": {
   "display_name": "Python 3 (ipykernel)",
   "language": "python",
   "name": "python3"
  },
  "language_info": {
   "codemirror_mode": {
    "name": "ipython",
    "version": 3
   },
   "file_extension": ".py",
   "mimetype": "text/x-python",
   "name": "python",
   "nbconvert_exporter": "python",
   "pygments_lexer": "ipython3",
   "version": "3.12.4"
  }
 },
 "nbformat": 4,
 "nbformat_minor": 5
}

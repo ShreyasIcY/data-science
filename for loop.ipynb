{
 "cells": [
  {
   "cell_type": "code",
   "execution_count": 3,
   "id": "faea301c-f32f-4dc2-857a-133ddb5b0810",
   "metadata": {},
   "outputs": [
    {
     "data": {
      "text/plain": [
       "[5, 6, 7, 8, 9]"
      ]
     },
     "execution_count": 3,
     "metadata": {},
     "output_type": "execute_result"
    }
   ],
   "source": [
    "list(range(5,10,1))"
   ]
  },
  {
   "cell_type": "code",
   "execution_count": 5,
   "id": "a2f72ab1-ca79-4836-b23d-2e1cb0777932",
   "metadata": {},
   "outputs": [
    {
     "data": {
      "text/plain": [
       "range(5, 10)"
      ]
     },
     "execution_count": 5,
     "metadata": {},
     "output_type": "execute_result"
    }
   ],
   "source": [
    "range(5,10)"
   ]
  },
  {
   "cell_type": "code",
   "execution_count": 7,
   "id": "e8461fd6-0f8b-46a8-a65a-774c31fea680",
   "metadata": {},
   "outputs": [
    {
     "data": {
      "text/plain": [
       "range(0, 10)"
      ]
     },
     "execution_count": 7,
     "metadata": {},
     "output_type": "execute_result"
    }
   ],
   "source": [
    "range(10)"
   ]
  },
  {
   "cell_type": "code",
   "execution_count": 9,
   "id": "cbe1a1f5-4e91-46ed-bbc4-14c559b94534",
   "metadata": {},
   "outputs": [
    {
     "data": {
      "text/plain": [
       "[10, 9, 8, 7, 6, 5, 4, 3]"
      ]
     },
     "execution_count": 9,
     "metadata": {},
     "output_type": "execute_result"
    }
   ],
   "source": [
    "list(range(10,2,-1))"
   ]
  },
  {
   "cell_type": "code",
   "execution_count": 11,
   "id": "58feff1e-8fa6-4114-8b04-41d16a7a05f0",
   "metadata": {},
   "outputs": [
    {
     "data": {
      "text/plain": [
       "[10, 8, 6, 4, 2]"
      ]
     },
     "execution_count": 11,
     "metadata": {},
     "output_type": "execute_result"
    }
   ],
   "source": [
    "list(range(10,1,-2))"
   ]
  },
  {
   "cell_type": "code",
   "execution_count": 13,
   "id": "8f39e3c0-1ab5-4889-9dc8-2ca1ed3ba846",
   "metadata": {},
   "outputs": [
    {
     "name": "stdin",
     "output_type": "stream",
     "text": [
      " 3\n"
     ]
    },
    {
     "name": "stdout",
     "output_type": "stream",
     "text": [
      "3\n",
      "6\n",
      "9\n",
      "12\n",
      "15\n",
      "18\n",
      "21\n",
      "24\n",
      "27\n",
      "30\n",
      "hello\n"
     ]
    }
   ],
   "source": [
    "num=int(input())\n",
    "for i in range(1,11):\n",
    "    print(i*num)\n",
    "print(\"hello\")"
   ]
  },
  {
   "cell_type": "code",
   "execution_count": 15,
   "id": "7d96537c-ff1d-4e19-b5fa-8037fcda6fad",
   "metadata": {},
   "outputs": [
    {
     "data": {
      "text/plain": [
       "[]"
      ]
     },
     "execution_count": 15,
     "metadata": {},
     "output_type": "execute_result"
    }
   ],
   "source": [
    "list(range(10,30,-10))"
   ]
  },
  {
   "cell_type": "code",
   "execution_count": 25,
   "id": "0fd2e3b4-a64c-400b-af71-ff4c2c79853d",
   "metadata": {},
   "outputs": [
    {
     "name": "stdout",
     "output_type": "stream",
     "text": [
      "20\n",
      "18\n",
      "12\n",
      "done\n"
     ]
    }
   ],
   "source": [
    "for i in range(20,10,-2):\n",
    "    if(i==16 or i==14):\n",
    "        continue\n",
    "    print(i)\n",
    "else:\n",
    "    print(\"done\")"
   ]
  },
  {
   "cell_type": "code",
   "execution_count": 31,
   "id": "9d27355b-480a-4441-ac0a-00adb5383858",
   "metadata": {},
   "outputs": [
    {
     "name": "stdout",
     "output_type": "stream",
     "text": [
      "# \n",
      "& & \n",
      "# # # \n",
      "& & & & \n"
     ]
    }
   ],
   "source": [
    "for i in range(1,5):\n",
    "    if(i%2==0):\n",
    "        print(i*\"& \")\n",
    "    else:\n",
    "        print(i*\"# \")"
   ]
  },
  {
   "cell_type": "code",
   "execution_count": 35,
   "id": "8d003787-607f-49e3-978f-98cc6737cf26",
   "metadata": {},
   "outputs": [
    {
     "name": "stdin",
     "output_type": "stream",
     "text": [
      " 10\n"
     ]
    },
    {
     "name": "stdout",
     "output_type": "stream",
     "text": [
      "# \n",
      "& & \n",
      "# # # \n",
      "& & & & \n",
      "# # # # # \n",
      "& & & & & & \n",
      "# # # # # # # \n",
      "& & & & & & & & \n",
      "# # # # # # # # # \n"
     ]
    }
   ],
   "source": [
    "num=int(input())\n",
    "for i in range(1,num):\n",
    "    if(i%2==0):\n",
    "        print(i*\"& \")\n",
    "    else:\n",
    "        print(i*\"# \")\n",
    "    "
   ]
  },
  {
   "cell_type": "code",
   "execution_count": 37,
   "id": "e7961c09-a308-4aa7-9ba4-9b077331ca24",
   "metadata": {},
   "outputs": [],
   "source": [
    "## find prime between 1 to 100"
   ]
  },
  {
   "cell_type": "code",
   "execution_count": 53,
   "id": "35a2ce8f-17aa-4cdf-a271-62480efae7c1",
   "metadata": {},
   "outputs": [
    {
     "name": "stdout",
     "output_type": "stream",
     "text": [
      "1 2 3 5 7 11 13 17 19 23 29 31 37 41 43 47 53 59 61 67 71 73 79 83 89 97 "
     ]
    }
   ],
   "source": [
    "for num in range(1,100):\n",
    "    for i in range(2,num):\n",
    "        if(num%i==0):\n",
    "            break\n",
    "    else:\n",
    "        print(num,end=\" \")"
   ]
  },
  {
   "cell_type": "code",
   "execution_count": null,
   "id": "0c76f346-754d-4116-a4f7-b004cdaa5cb1",
   "metadata": {},
   "outputs": [],
   "source": [
    "## fibonacci series"
   ]
  },
  {
   "cell_type": "code",
   "execution_count": null,
   "id": "a8c964bc-5633-4db6-9b84-ffbd2b53de5e",
   "metadata": {},
   "outputs": [],
   "source": []
  },
  {
   "cell_type": "code",
   "execution_count": null,
   "id": "7176f4e1-24ee-432f-98c0-1d0754e8b38a",
   "metadata": {},
   "outputs": [],
   "source": []
  },
  {
   "cell_type": "code",
   "execution_count": null,
   "id": "f4ee4902-6fa5-4f04-9034-a34b32156520",
   "metadata": {},
   "outputs": [],
   "source": []
  }
 ],
 "metadata": {
  "kernelspec": {
   "display_name": "Python 3 (ipykernel)",
   "language": "python",
   "name": "python3"
  },
  "language_info": {
   "codemirror_mode": {
    "name": "ipython",
    "version": 3
   },
   "file_extension": ".py",
   "mimetype": "text/x-python",
   "name": "python",
   "nbconvert_exporter": "python",
   "pygments_lexer": "ipython3",
   "version": "3.12.4"
  }
 },
 "nbformat": 4,
 "nbformat_minor": 5
}

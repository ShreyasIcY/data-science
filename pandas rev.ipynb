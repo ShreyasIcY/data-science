{
 "cells": [
  {
   "cell_type": "markdown",
   "id": "c3de8ad0-e294-4fe9-a7fa-757741d119ad",
   "metadata": {},
   "source": [
    "## Data frame inspection"
   ]
  },
  {
   "cell_type": "code",
   "execution_count": 9,
   "id": "b88aa1af-a041-4e63-a505-83c5461eac8b",
   "metadata": {},
   "outputs": [],
   "source": [
    "import pandas as pd "
   ]
  },
  {
   "cell_type": "code",
   "execution_count": 13,
   "id": "b47f6b57-711a-4825-bc64-a1a7692c2ded",
   "metadata": {},
   "outputs": [],
   "source": [
    "a=pd.Series() ## here we are creating a series to store elements\n",
    "## a Series is a one-dimensional labeled array capable of holding any data type (integers, strings, floating point numbers, Python objects, etc.)"
   ]
  },
  {
   "cell_type": "code",
   "execution_count": 15,
   "id": "712c0f63-4b78-4f13-b74c-faf6b9cebf59",
   "metadata": {},
   "outputs": [
    {
     "data": {
      "text/plain": [
       "Series([], dtype: object)"
      ]
     },
     "execution_count": 15,
     "metadata": {},
     "output_type": "execute_result"
    }
   ],
   "source": [
    "a"
   ]
  },
  {
   "cell_type": "code",
   "execution_count": 25,
   "id": "a7072624-bcfe-421e-a5fa-25b189331227",
   "metadata": {},
   "outputs": [],
   "source": [
    "a=pd.Series(18)"
   ]
  },
  {
   "cell_type": "code",
   "execution_count": 27,
   "id": "83a2450e-f902-4f2e-991a-bc5a9812512c",
   "metadata": {},
   "outputs": [
    {
     "data": {
      "text/plain": [
       "0    18\n",
       "dtype: int64"
      ]
     },
     "execution_count": 27,
     "metadata": {},
     "output_type": "execute_result"
    }
   ],
   "source": [
    "a"
   ]
  },
  {
   "cell_type": "code",
   "execution_count": 35,
   "id": "776f5dc2-b309-4325-a586-511a7dfdce01",
   "metadata": {},
   "outputs": [],
   "source": [
    "t=(19,34,57)\n",
    "a=pd.Series(t)"
   ]
  },
  {
   "cell_type": "code",
   "execution_count": 37,
   "id": "c106c8c7-4fa9-4dcf-b06c-aaa0cc281690",
   "metadata": {},
   "outputs": [
    {
     "data": {
      "text/plain": [
       "0    19\n",
       "1    34\n",
       "2    57\n",
       "dtype: int64"
      ]
     },
     "execution_count": 37,
     "metadata": {},
     "output_type": "execute_result"
    }
   ],
   "source": [
    "a"
   ]
  },
  {
   "cell_type": "code",
   "execution_count": 41,
   "id": "c301a920-6b59-4cd1-a286-7478310a1b12",
   "metadata": {},
   "outputs": [],
   "source": [
    "q=[132,35,68,24,68]\n",
    "a=pd.Series(q)"
   ]
  },
  {
   "cell_type": "code",
   "execution_count": 43,
   "id": "0c18641d-93a4-41bb-8daa-0eee0d2310f0",
   "metadata": {},
   "outputs": [
    {
     "data": {
      "text/plain": [
       "0    132\n",
       "1     35\n",
       "2     68\n",
       "3     24\n",
       "4     68\n",
       "dtype: int64"
      ]
     },
     "execution_count": 43,
     "metadata": {},
     "output_type": "execute_result"
    }
   ],
   "source": [
    "a"
   ]
  },
  {
   "cell_type": "code",
   "execution_count": 56,
   "id": "a594aa4a-bea7-45f6-a68b-2c8021dfb706",
   "metadata": {},
   "outputs": [],
   "source": [
    "q.append(t)"
   ]
  },
  {
   "cell_type": "code",
   "execution_count": 58,
   "id": "4e915e65-78b1-4e5e-89df-847d70f86c87",
   "metadata": {},
   "outputs": [
    {
     "data": {
      "text/plain": [
       "[132, 35, 68, 24, 68, (19, 34, 57), (19, 34, 57)]"
      ]
     },
     "execution_count": 58,
     "metadata": {},
     "output_type": "execute_result"
    }
   ],
   "source": [
    "q"
   ]
  },
  {
   "cell_type": "code",
   "execution_count": 63,
   "id": "d8b4dba0-a6f6-4978-8fd9-4e676b2a4869",
   "metadata": {},
   "outputs": [],
   "source": [
    "import numpy as np\n",
    "arr=np.array([1,2,3,4,5])\n",
    "d1=pd.Series(arr)"
   ]
  },
  {
   "cell_type": "code",
   "execution_count": 65,
   "id": "2c4e16ed-0128-4528-93fc-29ee19fcab03",
   "metadata": {},
   "outputs": [
    {
     "data": {
      "text/plain": [
       "0    1\n",
       "1    2\n",
       "2    3\n",
       "3    4\n",
       "4    5\n",
       "dtype: int32"
      ]
     },
     "execution_count": 65,
     "metadata": {},
     "output_type": "execute_result"
    }
   ],
   "source": [
    "d1"
   ]
  },
  {
   "cell_type": "code",
   "execution_count": 83,
   "id": "f4b20b40-acab-4376-8f89-9793c2ee1d6d",
   "metadata": {},
   "outputs": [
    {
     "data": {
      "text/plain": [
       "(2, 5)"
      ]
     },
     "execution_count": 83,
     "metadata": {},
     "output_type": "execute_result"
    }
   ],
   "source": [
    "## we created a series where we determined the shape of array i.e it has 2 rows and 5 columns\n",
    "arr2=np.array([[1,3,4,56,7],[34,56,38,9,5]])\n",
    "arr2.shape"
   ]
  },
  {
   "cell_type": "code",
   "execution_count": 91,
   "id": "3b66ffe9-0488-40fb-905d-6d5e86aba9e6",
   "metadata": {},
   "outputs": [
    {
     "ename": "ValueError",
     "evalue": "Data must be 1-dimensional, got ndarray of shape (2, 5) instead",
     "output_type": "error",
     "traceback": [
      "\u001b[1;31m---------------------------------------------------------------------------\u001b[0m",
      "\u001b[1;31mValueError\u001b[0m                                Traceback (most recent call last)",
      "Cell \u001b[1;32mIn[91], line 1\u001b[0m\n\u001b[1;32m----> 1\u001b[0m e\u001b[38;5;241m=\u001b[39mpd\u001b[38;5;241m.\u001b[39mSeries(arr2)\n",
      "File \u001b[1;32m~\\anaconda3\\Lib\\site-packages\\pandas\\core\\series.py:584\u001b[0m, in \u001b[0;36mSeries.__init__\u001b[1;34m(self, data, index, dtype, name, copy, fastpath)\u001b[0m\n\u001b[0;32m    582\u001b[0m         data \u001b[38;5;241m=\u001b[39m data\u001b[38;5;241m.\u001b[39mcopy()\n\u001b[0;32m    583\u001b[0m \u001b[38;5;28;01melse\u001b[39;00m:\n\u001b[1;32m--> 584\u001b[0m     data \u001b[38;5;241m=\u001b[39m sanitize_array(data, index, dtype, copy)\n\u001b[0;32m    586\u001b[0m     manager \u001b[38;5;241m=\u001b[39m _get_option(\u001b[38;5;124m\"\u001b[39m\u001b[38;5;124mmode.data_manager\u001b[39m\u001b[38;5;124m\"\u001b[39m, silent\u001b[38;5;241m=\u001b[39m\u001b[38;5;28;01mTrue\u001b[39;00m)\n\u001b[0;32m    587\u001b[0m     \u001b[38;5;28;01mif\u001b[39;00m manager \u001b[38;5;241m==\u001b[39m \u001b[38;5;124m\"\u001b[39m\u001b[38;5;124mblock\u001b[39m\u001b[38;5;124m\"\u001b[39m:\n",
      "File \u001b[1;32m~\\anaconda3\\Lib\\site-packages\\pandas\\core\\construction.py:659\u001b[0m, in \u001b[0;36msanitize_array\u001b[1;34m(data, index, dtype, copy, allow_2d)\u001b[0m\n\u001b[0;32m    656\u001b[0m             subarr \u001b[38;5;241m=\u001b[39m cast(np\u001b[38;5;241m.\u001b[39mndarray, subarr)\n\u001b[0;32m    657\u001b[0m             subarr \u001b[38;5;241m=\u001b[39m maybe_infer_to_datetimelike(subarr)\n\u001b[1;32m--> 659\u001b[0m subarr \u001b[38;5;241m=\u001b[39m _sanitize_ndim(subarr, data, dtype, index, allow_2d\u001b[38;5;241m=\u001b[39mallow_2d)\n\u001b[0;32m    661\u001b[0m \u001b[38;5;28;01mif\u001b[39;00m \u001b[38;5;28misinstance\u001b[39m(subarr, np\u001b[38;5;241m.\u001b[39mndarray):\n\u001b[0;32m    662\u001b[0m     \u001b[38;5;66;03m# at this point we should have dtype be None or subarr.dtype == dtype\u001b[39;00m\n\u001b[0;32m    663\u001b[0m     dtype \u001b[38;5;241m=\u001b[39m cast(np\u001b[38;5;241m.\u001b[39mdtype, dtype)\n",
      "File \u001b[1;32m~\\anaconda3\\Lib\\site-packages\\pandas\\core\\construction.py:718\u001b[0m, in \u001b[0;36m_sanitize_ndim\u001b[1;34m(result, data, dtype, index, allow_2d)\u001b[0m\n\u001b[0;32m    716\u001b[0m     \u001b[38;5;28;01mif\u001b[39;00m allow_2d:\n\u001b[0;32m    717\u001b[0m         \u001b[38;5;28;01mreturn\u001b[39;00m result\n\u001b[1;32m--> 718\u001b[0m     \u001b[38;5;28;01mraise\u001b[39;00m \u001b[38;5;167;01mValueError\u001b[39;00m(\n\u001b[0;32m    719\u001b[0m         \u001b[38;5;124mf\u001b[39m\u001b[38;5;124m\"\u001b[39m\u001b[38;5;124mData must be 1-dimensional, got ndarray of shape \u001b[39m\u001b[38;5;132;01m{\u001b[39;00mdata\u001b[38;5;241m.\u001b[39mshape\u001b[38;5;132;01m}\u001b[39;00m\u001b[38;5;124m instead\u001b[39m\u001b[38;5;124m\"\u001b[39m\n\u001b[0;32m    720\u001b[0m     )\n\u001b[0;32m    721\u001b[0m \u001b[38;5;28;01mif\u001b[39;00m is_object_dtype(dtype) \u001b[38;5;129;01mand\u001b[39;00m \u001b[38;5;28misinstance\u001b[39m(dtype, ExtensionDtype):\n\u001b[0;32m    722\u001b[0m     \u001b[38;5;66;03m# i.e. NumpyEADtype(\"O\")\u001b[39;00m\n\u001b[0;32m    724\u001b[0m     result \u001b[38;5;241m=\u001b[39m com\u001b[38;5;241m.\u001b[39masarray_tuplesafe(data, dtype\u001b[38;5;241m=\u001b[39mnp\u001b[38;5;241m.\u001b[39mdtype(\u001b[38;5;124m\"\u001b[39m\u001b[38;5;124mobject\u001b[39m\u001b[38;5;124m\"\u001b[39m))\n",
      "\u001b[1;31mValueError\u001b[0m: Data must be 1-dimensional, got ndarray of shape (2, 5) instead"
     ]
    }
   ],
   "source": [
    "e=pd.Series(arr2)\n",
    "## here error occurs because we cannot pass 2 data types or multiple arrays or multiple values in series "
   ]
  },
  {
   "cell_type": "code",
   "execution_count": 95,
   "id": "4c9e9420-1470-4376-a09e-e92da9575a20",
   "metadata": {},
   "outputs": [
    {
     "data": {
      "text/plain": [
       "dict_values([1, 2, 3, 4])"
      ]
     },
     "execution_count": 95,
     "metadata": {},
     "output_type": "execute_result"
    }
   ],
   "source": [
    "d={'a':1,'b':2,'c':3,'d':4}\n",
    "d.values()## fetches the values "
   ]
  },
  {
   "cell_type": "code",
   "execution_count": 109,
   "id": "4d853477-84d0-41ff-a77e-98c96f7a8658",
   "metadata": {},
   "outputs": [
    {
     "data": {
      "text/plain": [
       "dict_keys(['a', 'b', 'c', 'd'])"
      ]
     },
     "execution_count": 109,
     "metadata": {},
     "output_type": "execute_result"
    }
   ],
   "source": [
    "d.keys()## used to see the column names for the assigned elements in dict"
   ]
  },
  {
   "cell_type": "code",
   "execution_count": 111,
   "id": "29fb4a46-4f50-483d-90e6-2da789a1d92d",
   "metadata": {},
   "outputs": [
    {
     "data": {
      "text/plain": [
       "dict_items([('a', 1), ('b', 2), ('c', 3), ('d', 4)])"
      ]
     },
     "execution_count": 111,
     "metadata": {},
     "output_type": "execute_result"
    }
   ],
   "source": [
    "d.items() ## gives all the elements along with their values"
   ]
  },
  {
   "cell_type": "code",
   "execution_count": 116,
   "id": "e95eea33-022c-4624-b32a-f892d64d73b3",
   "metadata": {},
   "outputs": [],
   "source": [
    "n=pd.Series(d)"
   ]
  },
  {
   "cell_type": "code",
   "execution_count": 118,
   "id": "a783e80e-a87a-41e1-8c8d-9b374cdb4624",
   "metadata": {},
   "outputs": [
    {
     "name": "stderr",
     "output_type": "stream",
     "text": [
      "C:\\Users\\shrey\\AppData\\Local\\Temp\\ipykernel_17136\\777193203.py:1: FutureWarning: Series.__getitem__ treating keys as positions is deprecated. In a future version, integer keys will always be treated as labels (consistent with DataFrame behavior). To access a value by position, use `ser.iloc[pos]`\n",
      "  n[0]\n"
     ]
    },
    {
     "data": {
      "text/plain": [
       "1"
      ]
     },
     "execution_count": 118,
     "metadata": {},
     "output_type": "execute_result"
    }
   ],
   "source": [
    "n[0]"
   ]
  },
  {
   "cell_type": "code",
   "execution_count": 120,
   "id": "32509fdc-676b-4463-a8bb-17414add8227",
   "metadata": {},
   "outputs": [
    {
     "data": {
      "text/plain": [
       "2"
      ]
     },
     "execution_count": 120,
     "metadata": {},
     "output_type": "execute_result"
    }
   ],
   "source": [
    "n['b']"
   ]
  },
  {
   "cell_type": "code",
   "execution_count": null,
   "id": "96430d39-cdc5-4376-b059-dbd4801cf017",
   "metadata": {},
   "outputs": [],
   "source": [
    "## slicing operations "
   ]
  },
  {
   "cell_type": "code",
   "execution_count": 133,
   "id": "575466aa-a60a-4962-8070-47253a488915",
   "metadata": {},
   "outputs": [
    {
     "data": {
      "text/plain": [
       "0     1\n",
       "2     3\n",
       "4    47\n",
       "6     7\n",
       "dtype: int64"
      ]
     },
     "execution_count": 133,
     "metadata": {},
     "output_type": "execute_result"
    }
   ],
   "source": [
    "d=pd.Series([1,2,3,5,47,98,7,8,6,32,78,2,8,289,258,78])\n",
    "d[:8:2]## here its giving values from 0 index to 8 with every 2nd value"
   ]
  },
  {
   "cell_type": "code",
   "execution_count": 135,
   "id": "79b5360c-e5c7-47e7-b64d-9c45ff094334",
   "metadata": {},
   "outputs": [
    {
     "data": {
      "text/plain": [
       "4    47\n",
       "5    98\n",
       "3     5\n",
       "6     7\n",
       "dtype: int64"
      ]
     },
     "execution_count": 135,
     "metadata": {},
     "output_type": "execute_result"
    }
   ],
   "source": [
    "d[[4,5,3,6]] ## multiple index"
   ]
  },
  {
   "cell_type": "code",
   "execution_count": 139,
   "id": "a858705d-7f65-4d3b-9b7e-dda62bacda2d",
   "metadata": {},
   "outputs": [
    {
     "data": {
      "text/plain": [
       "0       1\n",
       "1       2\n",
       "2       3\n",
       "3       5\n",
       "4      34\n",
       "5      98\n",
       "6       7\n",
       "7       8\n",
       "8       6\n",
       "9      32\n",
       "10     78\n",
       "11      2\n",
       "12      8\n",
       "13    289\n",
       "14    258\n",
       "15     78\n",
       "dtype: int64"
      ]
     },
     "execution_count": 139,
     "metadata": {},
     "output_type": "execute_result"
    }
   ],
   "source": [
    "d[4]=34  ## changing the element\n",
    "d"
   ]
  },
  {
   "cell_type": "code",
   "execution_count": 143,
   "id": "51b22bcd-9540-47ce-adb3-74ac1a7ec3f8",
   "metadata": {},
   "outputs": [
    {
     "data": {
      "text/plain": [
       "0       1\n",
       "1       2\n",
       "2       3\n",
       "3       5\n",
       "4      34\n",
       "5      98\n",
       "6     100\n",
       "7     200\n",
       "8     300\n",
       "9     400\n",
       "10     78\n",
       "11      2\n",
       "12      8\n",
       "13    289\n",
       "14    258\n",
       "15     78\n",
       "dtype: int64"
      ]
     },
     "execution_count": 143,
     "metadata": {},
     "output_type": "execute_result"
    }
   ],
   "source": [
    "d[6:10]=[100,200,300,400] ## changing values based on index \n",
    "d"
   ]
  },
  {
   "cell_type": "code",
   "execution_count": 145,
   "id": "6036c36b-1c89-468e-b7e0-976bc46e5e85",
   "metadata": {},
   "outputs": [
    {
     "data": {
      "text/plain": [
       "one      1\n",
       "Two      2\n",
       "Three    4\n",
       "Four     6\n",
       "dtype: int32"
      ]
     },
     "execution_count": 145,
     "metadata": {},
     "output_type": "execute_result"
    }
   ],
   "source": [
    "## here we are assigning column name to each element in arr3\n",
    "arr3=np.array([1,2,4,6])\n",
    "s=pd.Series(arr3,index=['one','Two','Three','Four'])   \n",
    "s"
   ]
  },
  {
   "cell_type": "code",
   "execution_count": 147,
   "id": "0c8f2479-895a-46a1-9307-73c3635afac0",
   "metadata": {},
   "outputs": [
    {
     "data": {
      "text/plain": [
       "0    1\n",
       "1    2\n",
       "2    4\n",
       "3    6\n",
       "dtype: int32"
      ]
     },
     "execution_count": 147,
     "metadata": {},
     "output_type": "execute_result"
    }
   ],
   "source": [
    "arr4=np.array([1,2,4,6])\n",
    "s1=pd.Series(arr4)   \n",
    "s1"
   ]
  },
  {
   "cell_type": "code",
   "execution_count": 153,
   "id": "b3cffccf-6e0e-400d-9e5e-69522303f198",
   "metadata": {},
   "outputs": [
    {
     "name": "stdout",
     "output_type": "stream",
     "text": [
      "Empty DataFrame\n",
      "Columns: []\n",
      "Index: []\n"
     ]
    }
   ],
   "source": [
    "import pandas as pd\n",
    "## empty dataframe\n",
    "d=pd.DataFrame()\n",
    "print(d)"
   ]
  },
  {
   "cell_type": "code",
   "execution_count": 157,
   "id": "e727b12b-41bb-49cf-af37-c06e5fc9a423",
   "metadata": {},
   "outputs": [],
   "source": [
    "data=[['abc',1],['def',2],['ghi',3],['','hij'],['klm','a']]"
   ]
  },
  {
   "cell_type": "code",
   "execution_count": 161,
   "id": "351e5800-56aa-4275-9d7f-935e62f8c51e",
   "metadata": {},
   "outputs": [
    {
     "data": {
      "text/html": [
       "<div>\n",
       "<style scoped>\n",
       "    .dataframe tbody tr th:only-of-type {\n",
       "        vertical-align: middle;\n",
       "    }\n",
       "\n",
       "    .dataframe tbody tr th {\n",
       "        vertical-align: top;\n",
       "    }\n",
       "\n",
       "    .dataframe thead th {\n",
       "        text-align: right;\n",
       "    }\n",
       "</style>\n",
       "<table border=\"1\" class=\"dataframe\">\n",
       "  <thead>\n",
       "    <tr style=\"text-align: right;\">\n",
       "      <th></th>\n",
       "      <th>0</th>\n",
       "      <th>1</th>\n",
       "    </tr>\n",
       "  </thead>\n",
       "  <tbody>\n",
       "    <tr>\n",
       "      <th>0</th>\n",
       "      <td>abc</td>\n",
       "      <td>1</td>\n",
       "    </tr>\n",
       "    <tr>\n",
       "      <th>1</th>\n",
       "      <td>def</td>\n",
       "      <td>2</td>\n",
       "    </tr>\n",
       "    <tr>\n",
       "      <th>2</th>\n",
       "      <td>ghi</td>\n",
       "      <td>3</td>\n",
       "    </tr>\n",
       "    <tr>\n",
       "      <th>3</th>\n",
       "      <td></td>\n",
       "      <td>hij</td>\n",
       "    </tr>\n",
       "    <tr>\n",
       "      <th>4</th>\n",
       "      <td>klm</td>\n",
       "      <td>a</td>\n",
       "    </tr>\n",
       "  </tbody>\n",
       "</table>\n",
       "</div>"
      ],
      "text/plain": [
       "     0    1\n",
       "0  abc    1\n",
       "1  def    2\n",
       "2  ghi    3\n",
       "3       hij\n",
       "4  klm    a"
      ]
     },
     "execution_count": 161,
     "metadata": {},
     "output_type": "execute_result"
    }
   ],
   "source": [
    "d1=pd.DataFrame(data)\n",
    "d1"
   ]
  },
  {
   "cell_type": "code",
   "execution_count": 165,
   "id": "a2c5d380-c559-4410-8bd2-a647e5bb0d17",
   "metadata": {},
   "outputs": [
    {
     "data": {
      "text/html": [
       "<div>\n",
       "<style scoped>\n",
       "    .dataframe tbody tr th:only-of-type {\n",
       "        vertical-align: middle;\n",
       "    }\n",
       "\n",
       "    .dataframe tbody tr th {\n",
       "        vertical-align: top;\n",
       "    }\n",
       "\n",
       "    .dataframe thead th {\n",
       "        text-align: right;\n",
       "    }\n",
       "</style>\n",
       "<table border=\"1\" class=\"dataframe\">\n",
       "  <thead>\n",
       "    <tr style=\"text-align: right;\">\n",
       "      <th></th>\n",
       "      <th>A</th>\n",
       "      <th>B</th>\n",
       "    </tr>\n",
       "  </thead>\n",
       "  <tbody>\n",
       "    <tr>\n",
       "      <th>A</th>\n",
       "      <td>abc</td>\n",
       "      <td>1</td>\n",
       "    </tr>\n",
       "    <tr>\n",
       "      <th>B</th>\n",
       "      <td>def</td>\n",
       "      <td>2</td>\n",
       "    </tr>\n",
       "    <tr>\n",
       "      <th>C</th>\n",
       "      <td>ghi</td>\n",
       "      <td>3</td>\n",
       "    </tr>\n",
       "    <tr>\n",
       "      <th>D</th>\n",
       "      <td></td>\n",
       "      <td>hij</td>\n",
       "    </tr>\n",
       "    <tr>\n",
       "      <th>E</th>\n",
       "      <td>klm</td>\n",
       "      <td>a</td>\n",
       "    </tr>\n",
       "  </tbody>\n",
       "</table>\n",
       "</div>"
      ],
      "text/plain": [
       "     A    B\n",
       "A  abc    1\n",
       "B  def    2\n",
       "C  ghi    3\n",
       "D       hij\n",
       "E  klm    a"
      ]
     },
     "execution_count": 165,
     "metadata": {},
     "output_type": "execute_result"
    }
   ],
   "source": [
    "d=pd.DataFrame(data,columns=['A','B'],index=['A','B','C','D','E'])  ## changing the index\n",
    "d"
   ]
  },
  {
   "cell_type": "code",
   "execution_count": null,
   "id": "b70fd51b-b243-47c1-bfd6-47159471b8dd",
   "metadata": {},
   "outputs": [],
   "source": []
  },
  {
   "cell_type": "code",
   "execution_count": null,
   "id": "640a9a90-892b-4fb4-8051-d150b81038d7",
   "metadata": {},
   "outputs": [],
   "source": []
  },
  {
   "cell_type": "code",
   "execution_count": null,
   "id": "c4d3e72f-6cce-437f-ba05-962e3ff09558",
   "metadata": {},
   "outputs": [],
   "source": []
  },
  {
   "cell_type": "code",
   "execution_count": null,
   "id": "c49a9555-7121-47d0-83bd-30f25ec52ac2",
   "metadata": {},
   "outputs": [],
   "source": []
  },
  {
   "cell_type": "code",
   "execution_count": null,
   "id": "26223bf1-7c1c-4aa1-b238-2e0545b65a7c",
   "metadata": {},
   "outputs": [],
   "source": []
  },
  {
   "cell_type": "code",
   "execution_count": null,
   "id": "bc304b80-ca38-4ea9-b3d6-156918576aea",
   "metadata": {},
   "outputs": [],
   "source": []
  },
  {
   "cell_type": "markdown",
   "id": "865810d8-bc24-4a90-9321-6c358fd92ff0",
   "metadata": {},
   "source": [
    "To get a strong grasp of **pandas** for data science interviews, focus on mastering these key functions:\n",
    "\n",
    "### DataFrame Creation and Inspection\n",
    "1. **`pd.DataFrame()`** - Create DataFrames.\n",
    "2. **`df.head()`** - View the first few rows.\n",
    "3. **`df.tail()`** - View the last few rows.\n",
    "4. **`df.info()`** - Overview of DataFrame structure.\n",
    "5. **`df.describe()`** - Summary statistics.\n",
    "\n",
    "### Selection and Indexing\n",
    "6. **`df.iloc[]`** - Select by row/column indices.\n",
    "7. **`df.loc[]`** - Select by labels.\n",
    "8. **`df.at[]` / `df.iat[]`** - Fast access for single elements.\n",
    "9. **`df.set_index()`** - Set a column as an index.\n",
    "10. **`df.reset_index()`** - Reset index to default.\n",
    "\n",
    "### Data Cleaning\n",
    "11. **`df.isnull()`** / **`df.notnull()`** - Check for missing values.\n",
    "12. **`df.fillna()`** - Fill missing values.\n",
    "13. **`df.dropna()`** - Drop rows/columns with missing values.\n",
    "14. **`df.drop_duplicates()`** - Remove duplicate rows.\n",
    "15. **`df.replace()`** - Replace values.\n",
    "16. **`df.astype()`** - Change data types.\n",
    "\n",
    "### Filtering and Sorting\n",
    "17. **`df.query()`** - Query the DataFrame using a string expression.\n",
    "18. **`df.filter()`** - Subset rows or columns.\n",
    "19. **`df.sort_values()`** - Sort by column values.\n",
    "20. **`df.sort_index()`** - Sort by index.\n",
    "\n",
    "### Grouping and Aggregation\n",
    "21. **`df.groupby()`** - Group data and apply aggregation functions.\n",
    "22. **`df.agg()`** - Perform multiple aggregation operations.\n",
    "23. **`df.transform()`** - Apply functions element-wise.\n",
    "24. **`df.pivot_table()`** - Create pivot tables.\n",
    "25. **`df.crosstab()`** - Cross-tabulation of factors.\n",
    "\n",
    "### Merging and Joining\n",
    "26. **`pd.concat()`** - Concatenate DataFrames.\n",
    "27. **`pd.merge()`** - Merge DataFrames based on keys.\n",
    "28. **`df.join()`** - Join DataFrames on index or key.\n",
    "\n",
    "### Handling Time Series Data\n",
    "29. **`pd.to_datetime()`** - Convert to datetime.\n",
    "30. **`df.resample()`** - Resample time series data.\n",
    "31. **`df.shift()`** - Shift data in time series.\n",
    "\n",
    "### Input/Output\n",
    "32. **`pd.read_csv()` / `df.to_csv()`** - Read from and write to CSV.\n",
    "33. **`pd.read_excel()` / `df.to_excel()`** - Read from and write to Excel.\n",
    "34. **`pd.read_sql()` / `df.to_sql()`** - Read from and write to SQL databases.\n",
    "\n",
    "### Visualization\n",
    "35. **`df.plot()`** - Basic plotting using matplotlib.\n",
    "\n",
    "These functions should give you a solid foundation in pandas, preparing you for most data science tasks and interviews."
   ]
  },
  {
   "cell_type": "markdown",
   "id": "231fb47b-74d8-4ec6-a34f-2b1898f80d34",
   "metadata": {},
   "source": []
  }
 ],
 "metadata": {
  "kernelspec": {
   "display_name": "Python 3 (ipykernel)",
   "language": "python",
   "name": "python3"
  },
  "language_info": {
   "codemirror_mode": {
    "name": "ipython",
    "version": 3
   },
   "file_extension": ".py",
   "mimetype": "text/x-python",
   "name": "python",
   "nbconvert_exporter": "python",
   "pygments_lexer": "ipython3",
   "version": "3.12.4"
  }
 },
 "nbformat": 4,
 "nbformat_minor": 5
}

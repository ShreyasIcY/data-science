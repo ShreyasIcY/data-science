{
 "cells": [
  {
   "cell_type": "code",
   "execution_count": null,
   "id": "e33dffc1-ff4e-432c-a41f-793b26450a93",
   "metadata": {},
   "outputs": [],
   "source": [
    "## control statements ##"
   ]
  },
  {
   "cell_type": "code",
   "execution_count": null,
   "id": "42c057fb-2fb6-47ed-b84d-81ade2828507",
   "metadata": {},
   "outputs": [],
   "source": []
  },
  {
   "cell_type": "code",
   "execution_count": null,
   "id": "5982865f-f176-43d1-9ebf-67340dd18294",
   "metadata": {},
   "outputs": [],
   "source": [
    "## print the table of 6"
   ]
  },
  {
   "cell_type": "code",
   "execution_count": 61,
   "id": "85c351e4-cc90-43e2-b1e5-f2d594c4a2f4",
   "metadata": {},
   "outputs": [
    {
     "name": "stdin",
     "output_type": "stream",
     "text": [
      " 3\n"
     ]
    },
    {
     "name": "stdout",
     "output_type": "stream",
     "text": [
      "6\n",
      "9\n",
      "12\n",
      "15\n",
      "18\n",
      "21\n",
      "24\n",
      "27\n",
      "30\n"
     ]
    }
   ],
   "source": [
    "num=int(input())\n",
    "i=1\n",
    "while(i<10):\n",
    "    i=i+1\n",
    "    res=num*i\n",
    "    print(res)"
   ]
  },
  {
   "cell_type": "code",
   "execution_count": 7,
   "id": "df9389b7-6517-421d-8ed2-f2ad9ee988b6",
   "metadata": {},
   "outputs": [],
   "source": [
    "## print factorial of a number "
   ]
  },
  {
   "cell_type": "code",
   "execution_count": 15,
   "id": "df5f6cbd-b1d2-452d-b0a0-c53528a20806",
   "metadata": {},
   "outputs": [
    {
     "name": "stdin",
     "output_type": "stream",
     "text": [
      " 7\n"
     ]
    },
    {
     "name": "stdout",
     "output_type": "stream",
     "text": [
      "5040\n"
     ]
    }
   ],
   "source": [
    "num=int(input())\n",
    "i=1\n",
    "res=1\n",
    "while(i<=num):\n",
    "    res=res*i\n",
    "    i=i+1\n",
    "print(res)"
   ]
  },
  {
   "cell_type": "code",
   "execution_count": 17,
   "id": "960f564a-403d-40d8-82d0-e0e005c08db4",
   "metadata": {},
   "outputs": [],
   "source": [
    "## addition of digits"
   ]
  },
  {
   "cell_type": "code",
   "execution_count": 23,
   "id": "a540ecd1-ad52-4117-808d-fbb7b9d0d44f",
   "metadata": {},
   "outputs": [
    {
     "name": "stdin",
     "output_type": "stream",
     "text": [
      " 547657\n"
     ]
    },
    {
     "name": "stdout",
     "output_type": "stream",
     "text": [
      "34\n"
     ]
    }
   ],
   "source": [
    "num=int(input())\n",
    "res=0\n",
    "while(num>0):\n",
    "    rem=num%10\n",
    "    res=rem+res\n",
    "    num=num//10\n",
    "print(res)"
   ]
  },
  {
   "cell_type": "code",
   "execution_count": 25,
   "id": "8418267e-decb-443b-9b82-2981bf6ddd29",
   "metadata": {},
   "outputs": [],
   "source": [
    "## find value of m to the power n  "
   ]
  },
  {
   "cell_type": "code",
   "execution_count": 7,
   "id": "4eb72679-f474-4a76-81a3-a01b0537c858",
   "metadata": {},
   "outputs": [
    {
     "name": "stdin",
     "output_type": "stream",
     "text": [
      " 3\n",
      " 4\n"
     ]
    },
    {
     "name": "stdout",
     "output_type": "stream",
     "text": [
      "81\n"
     ]
    }
   ],
   "source": [
    "base=int(input())\n",
    "power=int(input())\n",
    "res=1\n",
    "i=1\n",
    "while(i<=power):\n",
    "    res=res*base\n",
    "    i=i+1\n",
    "print(res)\n"
   ]
  },
  {
   "cell_type": "code",
   "execution_count": 9,
   "id": "f2481a4e-9db0-4311-ab6b-71d2858385f4",
   "metadata": {},
   "outputs": [],
   "source": [
    "## reverse a user define number "
   ]
  },
  {
   "cell_type": "code",
   "execution_count": 15,
   "id": "c8190a84-7224-46c7-be51-4cfeeed0ac2a",
   "metadata": {},
   "outputs": [
    {
     "name": "stdin",
     "output_type": "stream",
     "text": [
      " 345\n"
     ]
    },
    {
     "name": "stdout",
     "output_type": "stream",
     "text": [
      "543\n"
     ]
    }
   ],
   "source": [
    "num=int(input())\n",
    "res=0\n",
    "rev=0\n",
    "while(num>0):\n",
    "    res=num%10\n",
    "    rev=rev*10+res\n",
    "    num=num//10\n",
    "print(rev)"
   ]
  },
  {
   "cell_type": "code",
   "execution_count": null,
   "id": "f833b0e3-aa15-46f1-a245-ddc710943fb4",
   "metadata": {},
   "outputs": [],
   "source": [
    "## palindrome number "
   ]
  },
  {
   "cell_type": "code",
   "execution_count": 17,
   "id": "bb311753-0e97-475b-9681-84d2b8c463a2",
   "metadata": {},
   "outputs": [
    {
     "name": "stdin",
     "output_type": "stream",
     "text": [
      " 123\n"
     ]
    },
    {
     "name": "stdout",
     "output_type": "stream",
     "text": [
      "321\n",
      "its not a palindrome\n"
     ]
    }
   ],
   "source": [
    "num=int(input())\n",
    "res=0\n",
    "org_num=num\n",
    "rev=0\n",
    "while(num>0):\n",
    "    res=num%10\n",
    "    rev=rev*10+res\n",
    "    num=num//10\n",
    "print(rev)\n",
    "if(org_num==rev):\n",
    "    print(\"its a plaindrome \")\n",
    "else:\n",
    "    print(\"its not a palindrome\")"
   ]
  },
  {
   "cell_type": "code",
   "execution_count": 35,
   "id": "eef63b3b-1312-4f0e-91de-fd340a6c96c3",
   "metadata": {},
   "outputs": [
    {
     "data": {
      "text/plain": [
       "121"
      ]
     },
     "execution_count": 35,
     "metadata": {},
     "output_type": "execute_result"
    }
   ],
   "source": [
    "rev"
   ]
  },
  {
   "cell_type": "code",
   "execution_count": 37,
   "id": "5e441c72-b684-49b7-90fe-449a698d68e9",
   "metadata": {},
   "outputs": [
    {
     "data": {
      "text/plain": [
       "0"
      ]
     },
     "execution_count": 37,
     "metadata": {},
     "output_type": "execute_result"
    }
   ],
   "source": [
    "num"
   ]
  },
  {
   "cell_type": "code",
   "execution_count": 39,
   "id": "c2415bbc-cb3c-41c7-bff7-2455affd99d4",
   "metadata": {},
   "outputs": [],
   "source": [
    "## armstrong number"
   ]
  },
  {
   "cell_type": "code",
   "execution_count": 13,
   "id": "31b7dc03-d5bf-4524-8aee-b2865fe47dea",
   "metadata": {},
   "outputs": [
    {
     "name": "stdin",
     "output_type": "stream",
     "text": [
      "enter the armstrong number: 112\n"
     ]
    },
    {
     "name": "stdout",
     "output_type": "stream",
     "text": [
      "10\n",
      "the number is not palindrome\n"
     ]
    }
   ],
   "source": [
    "num=int(input(\"enter the armstrong number:\"))\n",
    "rem=0\n",
    "org_num=num\n",
    "res=0\n",
    "while(num>0):\n",
    "    rem=num%10\n",
    "    res=res+rem**3\n",
    "    num=num//10\n",
    "print(res)\n",
    "if(org_num==res):\n",
    "    print(\"the number is not armstrong\")\n",
    "else:\n",
    "    print(\"the number is not palindrome\")"
   ]
  },
  {
   "cell_type": "code",
   "execution_count": 1,
   "id": "64ec667c-f88e-4a0c-8496-acf34520d642",
   "metadata": {},
   "outputs": [],
   "source": [
    "##  counting positive numbers "
   ]
  },
  {
   "cell_type": "code",
   "execution_count": 5,
   "id": "1c08884f-a6c6-4369-ac93-a447f89f57f8",
   "metadata": {},
   "outputs": [
    {
     "name": "stdout",
     "output_type": "stream",
     "text": [
      "the count of positive number is: 11\n"
     ]
    }
   ],
   "source": [
    "number=[1,-3,7,-4,7,0,4,7,9,5,-3,8,-4,3,8,-7,4]\n",
    "count_of_number=0\n",
    "for num in number:\n",
    "    if(num>0):\n",
    "        count_of_number=count_of_number+1\n",
    "print(\"the count of positive number is:\",count_of_number)\n",
    "    "
   ]
  },
  {
   "cell_type": "code",
   "execution_count": 7,
   "id": "f641eed9-99a3-4e4f-8e09-16ce8b0f7890",
   "metadata": {},
   "outputs": [],
   "source": [
    "## sum of even number upto a given number "
   ]
  },
  {
   "cell_type": "code",
   "execution_count": 33,
   "id": "7cb6afac-3756-4478-aadc-ec712a7566d7",
   "metadata": {},
   "outputs": [
    {
     "name": "stdin",
     "output_type": "stream",
     "text": [
      " 10\n"
     ]
    },
    {
     "name": "stdout",
     "output_type": "stream",
     "text": [
      "sum of even numbers is: 30\n"
     ]
    }
   ],
   "source": [
    "num=int(input())\n",
    "i=2\n",
    "sum=0\n",
    "while(i<=num):\n",
    "    if(i%2==0):\n",
    "        sum=sum+i\n",
    "        i=i+2\n",
    "print(\"sum of even numbers is:\",sum)"
   ]
  },
  {
   "cell_type": "code",
   "execution_count": 29,
   "id": "0436c430-1940-4032-a88b-5b33eb626087",
   "metadata": {},
   "outputs": [
    {
     "name": "stdout",
     "output_type": "stream",
     "text": [
      "30\n"
     ]
    }
   ],
   "source": [
    "n=10\n",
    "sum_even = 0\n",
    "i = 2\n",
    "while i <= n:\n",
    "    sum_even += i\n",
    "    i += 2\n",
    "print(sum_even)"
   ]
  },
  {
   "cell_type": "code",
   "execution_count": 35,
   "id": "11a28bcf-3de6-46c6-9a35-8eb5819f3cdd",
   "metadata": {},
   "outputs": [],
   "source": [
    "## print a table but skip 5th iteraation "
   ]
  },
  {
   "cell_type": "code",
   "execution_count": 107,
   "id": "1f5a0248-ca17-48a4-9dcc-165fefd0ecb4",
   "metadata": {},
   "outputs": [
    {
     "name": "stdin",
     "output_type": "stream",
     "text": [
      " 3\n"
     ]
    },
    {
     "name": "stdout",
     "output_type": "stream",
     "text": [
      "3 x 1 = 3\n",
      "3 x 2 = 6\n",
      "3 x 3 = 9\n",
      "3 x 4 = 12\n",
      "3 x 6 = 18\n",
      "3 x 7 = 21\n",
      "3 x 8 = 24\n",
      "3 x 9 = 27\n",
      "3 x 10 = 30\n"
     ]
    }
   ],
   "source": [
    "table=int(input())\n",
    "i=0\n",
    "while(i<10):\n",
    "    if(i==4):\n",
    "        i=i+1\n",
    "        continue\n",
    "    i=i+1\n",
    "    num=table*i\n",
    "    print(table,\"x\",i,\"=\",num)"
   ]
  },
  {
   "cell_type": "code",
   "execution_count": null,
   "id": "d9e6a918-944c-4730-ba5f-d9b335ddb25c",
   "metadata": {},
   "outputs": [],
   "source": [
    "##"
   ]
  }
 ],
 "metadata": {
  "kernelspec": {
   "display_name": "Python 3 (ipykernel)",
   "language": "python",
   "name": "python3"
  },
  "language_info": {
   "codemirror_mode": {
    "name": "ipython",
    "version": 3
   },
   "file_extension": ".py",
   "mimetype": "text/x-python",
   "name": "python",
   "nbconvert_exporter": "python",
   "pygments_lexer": "ipython3",
   "version": "3.12.4"
  }
 },
 "nbformat": 4,
 "nbformat_minor": 5
}

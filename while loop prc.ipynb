{
 "cells": [
  {
   "cell_type": "code",
   "execution_count": null,
   "id": "e33dffc1-ff4e-432c-a41f-793b26450a93",
   "metadata": {},
   "outputs": [],
   "source": [
    "## control statements ##"
   ]
  },
  {
   "cell_type": "code",
   "execution_count": null,
   "id": "42c057fb-2fb6-47ed-b84d-81ade2828507",
   "metadata": {},
   "outputs": [],
   "source": []
  },
  {
   "cell_type": "code",
   "execution_count": null,
   "id": "5982865f-f176-43d1-9ebf-67340dd18294",
   "metadata": {},
   "outputs": [],
   "source": [
    "## print the table of 6"
   ]
  },
  {
   "cell_type": "code",
   "execution_count": 5,
   "id": "85c351e4-cc90-43e2-b1e5-f2d594c4a2f4",
   "metadata": {},
   "outputs": [
    {
     "name": "stdin",
     "output_type": "stream",
     "text": [
      " 6\n"
     ]
    },
    {
     "name": "stdout",
     "output_type": "stream",
     "text": [
      "12\n",
      "18\n",
      "24\n",
      "30\n",
      "36\n",
      "42\n",
      "48\n",
      "54\n",
      "60\n"
     ]
    }
   ],
   "source": [
    "num=int(input())\n",
    "i=1\n",
    "while(i<10):\n",
    "    i=i+1\n",
    "    res=num*i\n",
    "    print(res)"
   ]
  },
  {
   "cell_type": "code",
   "execution_count": 7,
   "id": "df9389b7-6517-421d-8ed2-f2ad9ee988b6",
   "metadata": {},
   "outputs": [],
   "source": [
    "## print factorial of a number "
   ]
  },
  {
   "cell_type": "code",
   "execution_count": 15,
   "id": "df5f6cbd-b1d2-452d-b0a0-c53528a20806",
   "metadata": {},
   "outputs": [
    {
     "name": "stdin",
     "output_type": "stream",
     "text": [
      " 7\n"
     ]
    },
    {
     "name": "stdout",
     "output_type": "stream",
     "text": [
      "5040\n"
     ]
    }
   ],
   "source": [
    "num=int(input())\n",
    "i=1\n",
    "res=1\n",
    "while(i<=num):\n",
    "    res=res*i\n",
    "    i=i+1\n",
    "print(res)"
   ]
  },
  {
   "cell_type": "code",
   "execution_count": 17,
   "id": "960f564a-403d-40d8-82d0-e0e005c08db4",
   "metadata": {},
   "outputs": [],
   "source": [
    "## addition of digits"
   ]
  },
  {
   "cell_type": "code",
   "execution_count": 23,
   "id": "a540ecd1-ad52-4117-808d-fbb7b9d0d44f",
   "metadata": {},
   "outputs": [
    {
     "name": "stdin",
     "output_type": "stream",
     "text": [
      " 547657\n"
     ]
    },
    {
     "name": "stdout",
     "output_type": "stream",
     "text": [
      "34\n"
     ]
    }
   ],
   "source": [
    "num=int(input())\n",
    "res=0\n",
    "while(num>0):\n",
    "    rem=num%10\n",
    "    res=rem+res\n",
    "    num=num//10\n",
    "print(res)"
   ]
  },
  {
   "cell_type": "code",
   "execution_count": 25,
   "id": "8418267e-decb-443b-9b82-2981bf6ddd29",
   "metadata": {},
   "outputs": [],
   "source": [
    "## find value of m to the power n  "
   ]
  },
  {
   "cell_type": "code",
   "execution_count": 7,
   "id": "4eb72679-f474-4a76-81a3-a01b0537c858",
   "metadata": {},
   "outputs": [
    {
     "name": "stdin",
     "output_type": "stream",
     "text": [
      " 3\n",
      " 4\n"
     ]
    },
    {
     "name": "stdout",
     "output_type": "stream",
     "text": [
      "81\n"
     ]
    }
   ],
   "source": [
    "base=int(input())\n",
    "power=int(input())\n",
    "res=1\n",
    "i=1\n",
    "while(i<=power):\n",
    "    res=res*base\n",
    "    i=i+1\n",
    "print(res)\n"
   ]
  },
  {
   "cell_type": "code",
   "execution_count": 9,
   "id": "f2481a4e-9db0-4311-ab6b-71d2858385f4",
   "metadata": {},
   "outputs": [],
   "source": [
    "## reverse a user define number "
   ]
  },
  {
   "cell_type": "code",
   "execution_count": 15,
   "id": "c8190a84-7224-46c7-be51-4cfeeed0ac2a",
   "metadata": {},
   "outputs": [
    {
     "name": "stdin",
     "output_type": "stream",
     "text": [
      " 345\n"
     ]
    },
    {
     "name": "stdout",
     "output_type": "stream",
     "text": [
      "543\n"
     ]
    }
   ],
   "source": [
    "num=int(input())\n",
    "res=0\n",
    "rev=0\n",
    "while(num>0):\n",
    "    res=num%10\n",
    "    rev=rev*10+res\n",
    "    num=num//10\n",
    "print(rev)"
   ]
  },
  {
   "cell_type": "code",
   "execution_count": null,
   "id": "f833b0e3-aa15-46f1-a245-ddc710943fb4",
   "metadata": {},
   "outputs": [],
   "source": [
    "## palindrome number "
   ]
  },
  {
   "cell_type": "code",
   "execution_count": 13,
   "id": "bb311753-0e97-475b-9681-84d2b8c463a2",
   "metadata": {},
   "outputs": [
    {
     "name": "stdin",
     "output_type": "stream",
     "text": [
      " 121\n"
     ]
    },
    {
     "name": "stdout",
     "output_type": "stream",
     "text": [
      "121\n",
      "its not a palindrome\n"
     ]
    }
   ],
   "source": [
    "num=int(input())\n",
    "res=0\n",
    "rev=0\n",
    "while(num>0):\n",
    "    res=num%10\n",
    "    rev=rev*10+res\n",
    "    num=num//10\n",
    "print(rev)\n",
    "if(rev==num):\n",
    "    print(\"its a plaindrome \")\n",
    "else:\n",
    "    print(\"its not a palindrome\")"
   ]
  },
  {
   "cell_type": "code",
   "execution_count": null,
   "id": "eef63b3b-1312-4f0e-91de-fd340a6c96c3",
   "metadata": {},
   "outputs": [],
   "source": []
  }
 ],
 "metadata": {
  "kernelspec": {
   "display_name": "Python 3 (ipykernel)",
   "language": "python",
   "name": "python3"
  },
  "language_info": {
   "codemirror_mode": {
    "name": "ipython",
    "version": 3
   },
   "file_extension": ".py",
   "mimetype": "text/x-python",
   "name": "python",
   "nbconvert_exporter": "python",
   "pygments_lexer": "ipython3",
   "version": "3.12.4"
  }
 },
 "nbformat": 4,
 "nbformat_minor": 5
}

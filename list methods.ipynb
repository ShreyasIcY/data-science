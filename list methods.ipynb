{
 "cells": [
  {
   "cell_type": "code",
   "execution_count": 1,
   "id": "2bf0c36c-274f-4bce-b1f3-c3ee19c1292c",
   "metadata": {},
   "outputs": [],
   "source": [
    "## 1. Append"
   ]
  },
  {
   "cell_type": "code",
   "execution_count": 65,
   "id": "f2625a42-8a0e-4837-9a8d-a786881db786",
   "metadata": {},
   "outputs": [],
   "source": [
    "l1=[0,1,2,3,4,5,6,7,8,9]\n",
    "l1.append(18)"
   ]
  },
  {
   "cell_type": "code",
   "execution_count": 17,
   "id": "fc61dde6-1140-47d3-85f6-b7ecbe29fa5e",
   "metadata": {},
   "outputs": [
    {
     "data": {
      "text/plain": [
       "[1, 2, 3, 4, 5, 6, 7, 8, 9, 18]"
      ]
     },
     "execution_count": 17,
     "metadata": {},
     "output_type": "execute_result"
    }
   ],
   "source": [
    "l1"
   ]
  },
  {
   "cell_type": "code",
   "execution_count": 59,
   "id": "f5b0eff6-7268-42ad-bdb3-dd1c7113a515",
   "metadata": {},
   "outputs": [],
   "source": [
    "## 2. extend"
   ]
  },
  {
   "cell_type": "code",
   "execution_count": 19,
   "id": "c50ada64-35a6-4307-8f33-e0bf245ad049",
   "metadata": {},
   "outputs": [],
   "source": [
    "l2=[11,12,13,14,15,16,17,18,19,20]"
   ]
  },
  {
   "cell_type": "code",
   "execution_count": 109,
   "id": "1d2213a1-779b-46e4-9db7-aa1832ba7d18",
   "metadata": {},
   "outputs": [],
   "source": [
    "l1.extend(l2)"
   ]
  },
  {
   "cell_type": "code",
   "execution_count": 111,
   "id": "abffa18f-e29c-4677-ab71-6878e2d87ed2",
   "metadata": {},
   "outputs": [
    {
     "data": {
      "text/plain": [
       "[2, 0, 11, 12, 13, 14, 15, 16, 17, 18, 19, 20]"
      ]
     },
     "execution_count": 111,
     "metadata": {},
     "output_type": "execute_result"
    }
   ],
   "source": [
    "l1"
   ]
  },
  {
   "cell_type": "code",
   "execution_count": 25,
   "id": "0b46476f-3cc6-47cb-84d8-1b46b4184ed4",
   "metadata": {},
   "outputs": [],
   "source": [
    "## 3. index "
   ]
  },
  {
   "cell_type": "code",
   "execution_count": 39,
   "id": "0b89db25-b5e6-43c0-afc6-baa6f90cc7a9",
   "metadata": {},
   "outputs": [
    {
     "data": {
      "text/plain": [
       "15"
      ]
     },
     "execution_count": 39,
     "metadata": {},
     "output_type": "execute_result"
    }
   ],
   "source": [
    "l1.index(16)"
   ]
  },
  {
   "cell_type": "code",
   "execution_count": 31,
   "id": "934ca064-e8f6-4687-84f3-1d882f42bc39",
   "metadata": {},
   "outputs": [],
   "source": [
    "## 4. Max"
   ]
  },
  {
   "cell_type": "code",
   "execution_count": 53,
   "id": "a81ffdf6-24df-4b66-8824-dc8e509aeb41",
   "metadata": {},
   "outputs": [
    {
     "data": {
      "text/plain": [
       "20"
      ]
     },
     "execution_count": 53,
     "metadata": {},
     "output_type": "execute_result"
    }
   ],
   "source": [
    "max(l1)"
   ]
  },
  {
   "cell_type": "code",
   "execution_count": 57,
   "id": "a96bc8a2-553d-4432-b163-a9fe7380c50c",
   "metadata": {},
   "outputs": [
    {
     "data": {
      "text/plain": [
       "19"
      ]
     },
     "execution_count": 57,
     "metadata": {},
     "output_type": "execute_result"
    }
   ],
   "source": [
    "## can also find the index of max \n",
    "l1.index(max(l1))"
   ]
  },
  {
   "cell_type": "code",
   "execution_count": 61,
   "id": "ad56e23b-7394-48fc-8e86-a47b5ca7d194",
   "metadata": {},
   "outputs": [],
   "source": [
    "## 5. min"
   ]
  },
  {
   "cell_type": "code",
   "execution_count": 67,
   "id": "33c0d743-d5ad-4cfa-805e-7a2c942d99cf",
   "metadata": {},
   "outputs": [
    {
     "data": {
      "text/plain": [
       "0"
      ]
     },
     "execution_count": 67,
     "metadata": {},
     "output_type": "execute_result"
    }
   ],
   "source": [
    "min(l1)"
   ]
  },
  {
   "cell_type": "code",
   "execution_count": null,
   "id": "7bf6b45f-f2cf-4029-8a89-13666a249e98",
   "metadata": {},
   "outputs": [],
   "source": [
    "## 6. pop"
   ]
  },
  {
   "cell_type": "code",
   "execution_count": 77,
   "id": "e41596a0-2163-4474-bd03-a811435c0485",
   "metadata": {},
   "outputs": [
    {
     "data": {
      "text/plain": [
       "9"
      ]
     },
     "execution_count": 77,
     "metadata": {},
     "output_type": "execute_result"
    }
   ],
   "source": [
    "l1.pop()"
   ]
  },
  {
   "cell_type": "code",
   "execution_count": 71,
   "id": "519294a7-be9f-45da-a932-644ff312c17b",
   "metadata": {},
   "outputs": [],
   "source": [
    "l1.append(2)"
   ]
  },
  {
   "cell_type": "code",
   "execution_count": 73,
   "id": "f68e70d2-b918-481b-9846-b27dc8352e34",
   "metadata": {},
   "outputs": [
    {
     "data": {
      "text/plain": [
       "[0, 1, 2, 3, 4, 5, 6, 7, 8, 9, 2]"
      ]
     },
     "execution_count": 73,
     "metadata": {},
     "output_type": "execute_result"
    }
   ],
   "source": [
    "l1"
   ]
  },
  {
   "cell_type": "code",
   "execution_count": 79,
   "id": "5a8441ad-9e01-45a5-ad10-3a8bf0e98e4b",
   "metadata": {},
   "outputs": [
    {
     "data": {
      "text/plain": [
       "8"
      ]
     },
     "execution_count": 79,
     "metadata": {},
     "output_type": "execute_result"
    }
   ],
   "source": [
    "l1.pop()      ## pop priotrizes the duplicate elements first and pops them "
   ]
  },
  {
   "cell_type": "code",
   "execution_count": 85,
   "id": "527df93b-7ac5-432e-8697-2773e9a63f9d",
   "metadata": {},
   "outputs": [
    {
     "data": {
      "text/plain": [
       "6"
      ]
     },
     "execution_count": 85,
     "metadata": {},
     "output_type": "execute_result"
    }
   ],
   "source": [
    "l1.pop()      ## pops random element "
   ]
  },
  {
   "cell_type": "code",
   "execution_count": 95,
   "id": "cc2b8162-4f66-434f-aa8a-561ce9ec7f8b",
   "metadata": {},
   "outputs": [
    {
     "data": {
      "text/plain": [
       "3"
      ]
     },
     "execution_count": 95,
     "metadata": {},
     "output_type": "execute_result"
    }
   ],
   "source": [
    "l1.pop(3)"
   ]
  },
  {
   "cell_type": "code",
   "execution_count": 97,
   "id": "8dbca6e7-5950-4a24-bdac-99746e81363a",
   "metadata": {},
   "outputs": [
    {
     "data": {
      "text/plain": [
       "[0, 1, 2]"
      ]
     },
     "execution_count": 97,
     "metadata": {},
     "output_type": "execute_result"
    }
   ],
   "source": [
    "l1"
   ]
  },
  {
   "cell_type": "code",
   "execution_count": 121,
   "id": "4c1e5cce-56fb-4b8f-ab72-a121259e4113",
   "metadata": {},
   "outputs": [],
   "source": [
    "## remove"
   ]
  },
  {
   "cell_type": "code",
   "execution_count": 99,
   "id": "3b8f3d61-3fc8-4cc4-a365-f25d34cc5e2c",
   "metadata": {},
   "outputs": [],
   "source": [
    "l1.remove(1)"
   ]
  },
  {
   "cell_type": "code",
   "execution_count": 101,
   "id": "1b27afb0-f8cb-418f-ab7d-f2fb9d9d0670",
   "metadata": {},
   "outputs": [
    {
     "data": {
      "text/plain": [
       "[0, 2]"
      ]
     },
     "execution_count": 101,
     "metadata": {},
     "output_type": "execute_result"
    }
   ],
   "source": [
    "l1"
   ]
  },
  {
   "cell_type": "code",
   "execution_count": 123,
   "id": "4e302e53-0bc8-4cce-bab6-898551cf06f3",
   "metadata": {},
   "outputs": [],
   "source": [
    "## reverse"
   ]
  },
  {
   "cell_type": "code",
   "execution_count": 103,
   "id": "9e9bc885-d917-450c-b4ab-caac6410da77",
   "metadata": {},
   "outputs": [],
   "source": [
    "l1.reverse()"
   ]
  },
  {
   "cell_type": "code",
   "execution_count": 105,
   "id": "76bf5f04-654e-4437-ae2a-78aa46e97321",
   "metadata": {},
   "outputs": [
    {
     "data": {
      "text/plain": [
       "[2, 0]"
      ]
     },
     "execution_count": 105,
     "metadata": {},
     "output_type": "execute_result"
    }
   ],
   "source": [
    "l1"
   ]
  },
  {
   "cell_type": "code",
   "execution_count": 113,
   "id": "faa71d82-31b8-4ec3-a799-d1e584b082ee",
   "metadata": {},
   "outputs": [
    {
     "data": {
      "text/plain": [
       "[2, 0, 11, 12, 13, 14, 15, 16, 17, 18, 19, 20]"
      ]
     },
     "execution_count": 113,
     "metadata": {},
     "output_type": "execute_result"
    }
   ],
   "source": [
    "l1"
   ]
  },
  {
   "cell_type": "code",
   "execution_count": 125,
   "id": "98a582ca-2b65-4a5b-a973-25f20ecc326c",
   "metadata": {},
   "outputs": [],
   "source": [
    "## count"
   ]
  },
  {
   "cell_type": "code",
   "execution_count": 127,
   "id": "ef980e10-afaf-430d-ac87-58747bd006d9",
   "metadata": {},
   "outputs": [
    {
     "data": {
      "text/plain": [
       "1"
      ]
     },
     "execution_count": 127,
     "metadata": {},
     "output_type": "execute_result"
    }
   ],
   "source": [
    "l1.count(13)"
   ]
  },
  {
   "cell_type": "code",
   "execution_count": 137,
   "id": "c8a1cb92-1b62-4aa8-8f5c-56580f74d6b3",
   "metadata": {},
   "outputs": [],
   "source": [
    "## copy"
   ]
  },
  {
   "cell_type": "code",
   "execution_count": 133,
   "id": "0502a6ae-ac08-4094-aa5f-de87fd3ccf6f",
   "metadata": {},
   "outputs": [],
   "source": [
    "l3=l1.copy()"
   ]
  },
  {
   "cell_type": "code",
   "execution_count": 135,
   "id": "c685f019-dc90-4065-88fd-c2d2918a7774",
   "metadata": {},
   "outputs": [
    {
     "data": {
      "text/plain": [
       "[2, 0, 11, 12, 13, 14, 15, 16, 17, 18, 19, 20]"
      ]
     },
     "execution_count": 135,
     "metadata": {},
     "output_type": "execute_result"
    }
   ],
   "source": [
    "l3"
   ]
  },
  {
   "cell_type": "code",
   "execution_count": 144,
   "id": "02246882-b245-444b-9930-ec8c7b8bcd7f",
   "metadata": {},
   "outputs": [],
   "source": [
    "l4=['a','b','c','d','e','f','g','h']"
   ]
  },
  {
   "cell_type": "code",
   "execution_count": 146,
   "id": "1882b38a-3e1c-4228-a5b5-7cc04b7c35f8",
   "metadata": {},
   "outputs": [
    {
     "data": {
      "text/plain": [
       "['a', 'b', 'c', 'd', 'e', 'f', 'g', 'h']"
      ]
     },
     "execution_count": 146,
     "metadata": {},
     "output_type": "execute_result"
    }
   ],
   "source": [
    "l4"
   ]
  },
  {
   "cell_type": "code",
   "execution_count": null,
   "id": "99da2437-9694-48ff-9fff-2859826120e7",
   "metadata": {},
   "outputs": [],
   "source": [
    "## clear "
   ]
  },
  {
   "cell_type": "code",
   "execution_count": 152,
   "id": "0690f835-782a-4f8c-9f88-dfece77a84e0",
   "metadata": {},
   "outputs": [],
   "source": [
    "l4.clear()     # deletes the entire list "
   ]
  },
  {
   "cell_type": "code",
   "execution_count": 154,
   "id": "27d15b69-3511-4677-ae28-6971ecbbc157",
   "metadata": {},
   "outputs": [
    {
     "data": {
      "text/plain": [
       "[]"
      ]
     },
     "execution_count": 154,
     "metadata": {},
     "output_type": "execute_result"
    }
   ],
   "source": [
    "l4"
   ]
  },
  {
   "cell_type": "code",
   "execution_count": 156,
   "id": "0b46c217-5af3-4213-8681-24b6bd6a3e63",
   "metadata": {},
   "outputs": [],
   "source": [
    "## sort "
   ]
  },
  {
   "cell_type": "code",
   "execution_count": 158,
   "id": "62cd42cb-efd5-42d6-a152-d810cf4eb0ce",
   "metadata": {},
   "outputs": [],
   "source": [
    "l4=['a','k','c','m','e','f','g','h','b','d']"
   ]
  },
  {
   "cell_type": "code",
   "execution_count": 164,
   "id": "54887f7a-b07f-4777-84ae-529fe6ba25c3",
   "metadata": {},
   "outputs": [],
   "source": [
    "l4.sort()        ## sorts out the list in alphabeticle order"
   ]
  },
  {
   "cell_type": "code",
   "execution_count": 166,
   "id": "2c63e214-502a-4596-9f88-d4f5d2b498be",
   "metadata": {},
   "outputs": [
    {
     "data": {
      "text/plain": [
       "['a', 'b', 'c', 'd', 'e', 'f', 'g', 'h', 'k', 'm']"
      ]
     },
     "execution_count": 166,
     "metadata": {},
     "output_type": "execute_result"
    }
   ],
   "source": [
    "l4"
   ]
  },
  {
   "cell_type": "code",
   "execution_count": null,
   "id": "1380f3c0-ec01-4486-af87-99f42f345fae",
   "metadata": {},
   "outputs": [],
   "source": []
  }
 ],
 "metadata": {
  "kernelspec": {
   "display_name": "Python 3 (ipykernel)",
   "language": "python",
   "name": "python3"
  },
  "language_info": {
   "codemirror_mode": {
    "name": "ipython",
    "version": 3
   },
   "file_extension": ".py",
   "mimetype": "text/x-python",
   "name": "python",
   "nbconvert_exporter": "python",
   "pygments_lexer": "ipython3",
   "version": "3.12.4"
  }
 },
 "nbformat": 4,
 "nbformat_minor": 5
}

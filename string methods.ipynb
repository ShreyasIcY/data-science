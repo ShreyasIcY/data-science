{
 "cells": [
  {
   "cell_type": "markdown",
   "id": "2c9a0dab-782a-4ac6-bdc8-2bf7d1c27883",
   "metadata": {},
   "source": [
    "## String methods \n"
   ]
  },
  {
   "cell_type": "code",
   "execution_count": 26,
   "id": "bcf74ae0-c0f4-46fb-bfa3-a4933eba39d6",
   "metadata": {},
   "outputs": [],
   "source": [
    "## capitalize:- Converts the first character to upper case\n",
    "\n",
    "txt='this file contains string methods'\n",
    "x=txt.capitalize()"
   ]
  },
  {
   "cell_type": "code",
   "execution_count": 28,
   "id": "ae3ac482-48e4-42e8-86fd-5331276da09d",
   "metadata": {},
   "outputs": [
    {
     "data": {
      "text/plain": [
       "'This file contains string methods'"
      ]
     },
     "execution_count": 28,
     "metadata": {},
     "output_type": "execute_result"
    }
   ],
   "source": [
    "x"
   ]
  },
  {
   "cell_type": "code",
   "execution_count": 30,
   "id": "3fd5cc77-77f0-4985-b372-53550210a751",
   "metadata": {},
   "outputs": [],
   "source": [
    "## casefold:- Converts string into lower case\n",
    "\n",
    "txt='This File Contains String Methods'\n",
    "x=txt.casefold()"
   ]
  },
  {
   "cell_type": "code",
   "execution_count": 32,
   "id": "1ec5a449-2283-49a4-9b12-f0797abb584f",
   "metadata": {},
   "outputs": [
    {
     "data": {
      "text/plain": [
       "'this file contains string methods'"
      ]
     },
     "execution_count": 32,
     "metadata": {},
     "output_type": "execute_result"
    }
   ],
   "source": [
    "x"
   ]
  },
  {
   "cell_type": "code",
   "execution_count": 72,
   "id": "8334adad-623a-4f87-b6b8-1a8f55153d35",
   "metadata": {},
   "outputs": [],
   "source": [
    "## centre:-\tReturns a centered string\n",
    "\n",
    "txt='banana'\n",
    "x=txt.center(10,'k')"
   ]
  },
  {
   "cell_type": "code",
   "execution_count": 74,
   "id": "70d93f8e-bd0f-463b-bd41-0752dce8a526",
   "metadata": {},
   "outputs": [
    {
     "data": {
      "text/plain": [
       "'kkbananakk'"
      ]
     },
     "execution_count": 74,
     "metadata": {},
     "output_type": "execute_result"
    }
   ],
   "source": [
    "x"
   ]
  },
  {
   "cell_type": "code",
   "execution_count": 88,
   "id": "af2e21e6-c58b-4156-9ed4-6816ff35e9be",
   "metadata": {},
   "outputs": [],
   "source": [
    "## count:- returns the number of times the specific value returns in a string \n",
    "\n",
    "txt = \"This file Contains String Methods. this file\"\n",
    "x=txt.count('file')"
   ]
  },
  {
   "cell_type": "code",
   "execution_count": 90,
   "id": "a263341e-f0ed-4346-b796-935938beb6f1",
   "metadata": {},
   "outputs": [
    {
     "data": {
      "text/plain": [
       "2"
      ]
     },
     "execution_count": 90,
     "metadata": {},
     "output_type": "execute_result"
    }
   ],
   "source": [
    "x"
   ]
  },
  {
   "cell_type": "code",
   "execution_count": 80,
   "id": "aa320515-3fbd-4cdf-920f-b8b854844a6f",
   "metadata": {},
   "outputs": [],
   "source": [
    "## encode:-Returns an encoded version of the string\n",
    "\n",
    "txt = \"My name is Ståle\"\n",
    "x=txt.encode()"
   ]
  },
  {
   "cell_type": "code",
   "execution_count": 82,
   "id": "a86748a6-6e73-47c1-9dc6-f9b079aafe36",
   "metadata": {},
   "outputs": [
    {
     "data": {
      "text/plain": [
       "b'My name is St\\xc3\\xa5le'"
      ]
     },
     "execution_count": 82,
     "metadata": {},
     "output_type": "execute_result"
    }
   ],
   "source": [
    "x"
   ]
  },
  {
   "cell_type": "code",
   "execution_count": 100,
   "id": "ed1f69ae-174b-4e1d-8699-ce9cf4f5b5ac",
   "metadata": {},
   "outputs": [],
   "source": [
    "## endswith:- returns True if the string ends with the specified value, otherwise False\n",
    "## syntax:- endswith(value,start,end)\n",
    "\n",
    "txt = \"This file Contains String Methods.\"\n",
    "x=txt.endswith('.')"
   ]
  },
  {
   "cell_type": "code",
   "execution_count": 102,
   "id": "340fdbb9-ce61-43ed-a736-2e9b16a3f2a2",
   "metadata": {},
   "outputs": [
    {
     "data": {
      "text/plain": [
       "True"
      ]
     },
     "execution_count": 102,
     "metadata": {},
     "output_type": "execute_result"
    }
   ],
   "source": [
    "x"
   ]
  },
  {
   "cell_type": "code",
   "execution_count": 17,
   "id": "def01cd4-69a5-4330-8b9e-689277d61eb5",
   "metadata": {},
   "outputs": [],
   "source": [
    "## find:- returns the index values at which the vvlaue in find methos is declared \n",
    "## index:- index() function can also be used in its place\n",
    "txt = \"This file Contains String Methods.\"\n",
    "x=txt.find('.')"
   ]
  },
  {
   "cell_type": "code",
   "execution_count": 19,
   "id": "87149f1b-c758-4611-935e-f0fe6a4c9894",
   "metadata": {},
   "outputs": [
    {
     "data": {
      "text/plain": [
       "33"
      ]
     },
     "execution_count": 19,
     "metadata": {},
     "output_type": "execute_result"
    }
   ],
   "source": [
    "x"
   ]
  },
  {
   "cell_type": "code",
   "execution_count": 21,
   "id": "4d1cd611-a828-4775-93c7-16c576924757",
   "metadata": {},
   "outputs": [
    {
     "data": {
      "text/plain": [
       "'For only 49.00 dollars!'"
      ]
     },
     "execution_count": 21,
     "metadata": {},
     "output_type": "execute_result"
    }
   ],
   "source": [
    "## fortmat:- used to format a specific value in a string.\n",
    "\n",
    "txt = \"For only {price:.2f} dollars!\"\n",
    "x=txt.format(price = 49)\n",
    "x"
   ]
  },
  {
   "cell_type": "code",
   "execution_count": 29,
   "id": "af0054d4-340c-4322-b279-d880c6174a6b",
   "metadata": {},
   "outputs": [
    {
     "data": {
      "text/plain": [
       "False"
      ]
     },
     "execution_count": 29,
     "metadata": {},
     "output_type": "execute_result"
    }
   ],
   "source": [
    "## isalnum:- returns true if all the text contains numbers or else false..... try giving space\n",
    "\n",
    "txt = \"test number 1234\"\n",
    "x = txt.isalnum()\n",
    "x"
   ]
  },
  {
   "cell_type": "code",
   "execution_count": 39,
   "id": "face48b3-5486-4a59-833b-9448eb381a96",
   "metadata": {},
   "outputs": [
    {
     "data": {
      "text/plain": [
       "False"
      ]
     },
     "execution_count": 39,
     "metadata": {},
     "output_type": "execute_result"
    }
   ],
   "source": [
    "## isalpha:- returs if the string is all alphabet....... dosent conunt spaces \n",
    "\n",
    "txt = \"test number \"\n",
    "x = txt.isalpha()\n",
    "x"
   ]
  },
  {
   "cell_type": "code",
   "execution_count": 52,
   "id": "9bda1a26-c097-4659-83b9-29dac97264dc",
   "metadata": {},
   "outputs": [
    {
     "data": {
      "text/plain": [
       "True"
      ]
     },
     "execution_count": 52,
     "metadata": {},
     "output_type": "execute_result"
    }
   ],
   "source": [
    "## isidentifier:- returns True if the string is a valid identifier, otherwise False\n",
    "## numbers before character spaces are not allowed \n",
    "\n",
    "txt = \"MyFolder\"\n",
    "x=txt.isidentifier()\n",
    "x"
   ]
  },
  {
   "cell_type": "code",
   "execution_count": 7,
   "id": "76da8bd2-a055-4bfc-aead-6704976efa57",
   "metadata": {},
   "outputs": [
    {
     "data": {
      "text/plain": [
       "True"
      ]
     },
     "execution_count": 7,
     "metadata": {},
     "output_type": "execute_result"
    }
   ],
   "source": [
    "## isdecimal():-accepts only decimal values in a string \n",
    "\n",
    "txt = \"1234\"\n",
    "x = txt.isdecimal()\n",
    "x"
   ]
  },
  {
   "cell_type": "code",
   "execution_count": 1,
   "id": "6474ce0a-afc8-43d8-8f58-75dffaacf382",
   "metadata": {
    "scrolled": true
   },
   "outputs": [
    {
     "data": {
      "text/plain": [
       "'hi im shreyas'"
      ]
     },
     "execution_count": 1,
     "metadata": {},
     "output_type": "execute_result"
    }
   ],
   "source": [
    "mylist = [\"hi\",\"im\",\"shreyas\"]\n",
    "x = \" \".join(mylist)\n",
    "x"
   ]
  },
  {
   "cell_type": "code",
   "execution_count": 5,
   "id": "fa88cc91-4da8-4f0e-8796-4ec6fbed3b21",
   "metadata": {},
   "outputs": [
    {
     "data": {
      "text/plain": [
       "'hi im shreyas'"
      ]
     },
     "execution_count": 5,
     "metadata": {},
     "output_type": "execute_result"
    }
   ],
   "source": [
    "mylist = \"HI IM SHREYAS\"\n",
    "x = mylist.lower()\n",
    "x"
   ]
  },
  {
   "cell_type": "code",
   "execution_count": 9,
   "id": "bb34437b-e2a7-4e4f-892c-1af17aa22ffe",
   "metadata": {},
   "outputs": [
    {
     "data": {
      "text/plain": [
       "('HI ', 'IM', ' SHREYAS')"
      ]
     },
     "execution_count": 9,
     "metadata": {},
     "output_type": "execute_result"
    }
   ],
   "source": [
    "mylist = \"HI IM SHREYAS\"\n",
    "x = mylist.partition(\"IM\")\n",
    "x"
   ]
  },
  {
   "cell_type": "code",
   "execution_count": 13,
   "id": "143fb018-8c49-457a-95d6-8560ceda264a",
   "metadata": {},
   "outputs": [
    {
     "data": {
      "text/plain": [
       "'HI IM shreyas'"
      ]
     },
     "execution_count": 13,
     "metadata": {},
     "output_type": "execute_result"
    }
   ],
   "source": [
    "mylist = \"HI IM SHREYAS\"\n",
    "x = mylist.replace(\"SHREYAS\",\"shreyas\")\n",
    "x"
   ]
  },
  {
   "cell_type": "code",
   "execution_count": 15,
   "id": "9a0b7990-be47-4137-b707-78e1f47f6c39",
   "metadata": {},
   "outputs": [
    {
     "name": "stdout",
     "output_type": "stream",
     "text": [
      "['welcome', 'to', 'the', 'jungle']\n"
     ]
    }
   ],
   "source": [
    "txt = \"welcome to the jungle\"\n",
    "\n",
    "x = txt.split()\n",
    "\n",
    "print(x)"
   ]
  },
  {
   "cell_type": "code",
   "execution_count": 17,
   "id": "7ddf006c-c60e-4824-a66f-0655a53bdd91",
   "metadata": {},
   "outputs": [
    {
     "data": {
      "text/plain": [
       "'Hi Im Shreyas'"
      ]
     },
     "execution_count": 17,
     "metadata": {},
     "output_type": "execute_result"
    }
   ],
   "source": [
    "mylist = \"HI IM SHREYAS\"\n",
    "x = mylist.title()\n",
    "x"
   ]
  },
  {
   "cell_type": "code",
   "execution_count": 23,
   "id": "94b35d69-a4ad-4269-a3ae-9ed86a167240",
   "metadata": {},
   "outputs": [
    {
     "data": {
      "text/plain": [
       "'HI IM SHREYAS'"
      ]
     },
     "execution_count": 23,
     "metadata": {},
     "output_type": "execute_result"
    }
   ],
   "source": [
    "mylist = \"hi im shreyas\"\n",
    "x = mylist.upper()\n",
    "x"
   ]
  },
  {
   "cell_type": "code",
   "execution_count": null,
   "id": "7265bf72-8331-4991-9ccc-41eca3525b51",
   "metadata": {},
   "outputs": [],
   "source": []
  }
 ],
 "metadata": {
  "kernelspec": {
   "display_name": "Python 3 (ipykernel)",
   "language": "python",
   "name": "python3"
  },
  "language_info": {
   "codemirror_mode": {
    "name": "ipython",
    "version": 3
   },
   "file_extension": ".py",
   "mimetype": "text/x-python",
   "name": "python",
   "nbconvert_exporter": "python",
   "pygments_lexer": "ipython3",
   "version": "3.12.4"
  }
 },
 "nbformat": 4,
 "nbformat_minor": 5
}

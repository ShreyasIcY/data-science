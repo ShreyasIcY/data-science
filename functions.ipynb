{
 "cells": [
  {
   "cell_type": "code",
   "execution_count": 1,
   "id": "aea5dcca-25ef-42d0-8fa2-ae96f7ce633e",
   "metadata": {},
   "outputs": [],
   "source": [
    "def addition(a,b):\n",
    "    otp=a+b\n",
    "    return otp"
   ]
  },
  {
   "cell_type": "code",
   "execution_count": 3,
   "id": "50f0937d-fb67-4e01-99b8-6160b7a9317e",
   "metadata": {},
   "outputs": [
    {
     "data": {
      "text/plain": [
       "12"
      ]
     },
     "execution_count": 3,
     "metadata": {},
     "output_type": "execute_result"
    }
   ],
   "source": [
    "addition(3,9)"
   ]
  },
  {
   "cell_type": "code",
   "execution_count": 15,
   "id": "ff26cc81-22ed-4523-801d-a8750a6a7205",
   "metadata": {},
   "outputs": [
    {
     "name": "stdin",
     "output_type": "stream",
     "text": [
      " 5\n",
      " 6\n"
     ]
    },
    {
     "data": {
      "text/plain": [
       "11"
      ]
     },
     "execution_count": 15,
     "metadata": {},
     "output_type": "execute_result"
    }
   ],
   "source": [
    "a=int(input())\n",
    "b=int(input())\n",
    "def addition(a,b):\n",
    "    otp=a+b\n",
    "    return otp\n",
    "addition(a,b)"
   ]
  },
  {
   "cell_type": "code",
   "execution_count": 11,
   "id": "f641ae1a-f745-4a8d-8b8b-a69db397fd8f",
   "metadata": {},
   "outputs": [],
   "source": [
    "## area of circle "
   ]
  },
  {
   "cell_type": "code",
   "execution_count": 21,
   "id": "ed29eaa5-bac5-4cc9-812c-780a3f7d3ae8",
   "metadata": {},
   "outputs": [
    {
     "name": "stdin",
     "output_type": "stream",
     "text": [
      " 9\n"
     ]
    },
    {
     "data": {
      "text/plain": [
       "254.34"
      ]
     },
     "execution_count": 21,
     "metadata": {},
     "output_type": "execute_result"
    }
   ],
   "source": [
    "rad=int(input())\n",
    "def area(rad):\n",
    "    res=3.14*rad**2\n",
    "    return res\n",
    "area(rad)"
   ]
  },
  {
   "cell_type": "code",
   "execution_count": 1,
   "id": "ea0d0d2d-0c39-48c0-9433-8c5172cbfcad",
   "metadata": {},
   "outputs": [
    {
     "name": "stdin",
     "output_type": "stream",
     "text": [
      " 3\n",
      " 4\n"
     ]
    },
    {
     "data": {
      "text/plain": [
       "12"
      ]
     },
     "execution_count": 1,
     "metadata": {},
     "output_type": "execute_result"
    }
   ],
   "source": [
    "## area of rectangle\n",
    "a=int(input())\n",
    "b=int(input())\n",
    "def area(a,b):\n",
    "    res=a*b\n",
    "    return res\n",
    "area(a,b)"
   ]
  },
  {
   "cell_type": "code",
   "execution_count": 9,
   "id": "a5440d14-0aef-47a9-9f2b-74824919278a",
   "metadata": {},
   "outputs": [],
   "source": [
    "## fib with function................. pass something return nothing \n",
    "a,b=0,1\n",
    "def fib(a,b):\n",
    "    for i in range(20): \n",
    "        a,b=b,a+b\n",
    "        print(b)"
   ]
  },
  {
   "cell_type": "code",
   "execution_count": 13,
   "id": "c3ee0cab-1967-4c9c-ad2b-ba9c7376b988",
   "metadata": {},
   "outputs": [
    {
     "name": "stdout",
     "output_type": "stream",
     "text": [
      "1\n",
      "2\n",
      "3\n",
      "5\n",
      "8\n",
      "13\n",
      "21\n",
      "34\n",
      "55\n",
      "89\n",
      "144\n",
      "233\n",
      "377\n",
      "610\n",
      "987\n",
      "1597\n",
      "2584\n",
      "4181\n",
      "6765\n",
      "10946\n"
     ]
    }
   ],
   "source": [
    "fib(0,1)"
   ]
  },
  {
   "cell_type": "code",
   "execution_count": 27,
   "id": "8ccf245a-10f5-4b73-92ff-fba8e9dcbb8e",
   "metadata": {},
   "outputs": [
    {
     "name": "stdout",
     "output_type": "stream",
     "text": [
      "11\n"
     ]
    }
   ],
   "source": [
    "## pass nothing return something\n",
    "def add(a,b):\n",
    "    a=3\n",
    "    b=8\n",
    "    c=a+b\n",
    "    return c\n",
    "z=add(a,b)\n",
    "print(z)"
   ]
  },
  {
   "cell_type": "code",
   "execution_count": 31,
   "id": "7853a3d2-0d5c-4ec0-9c42-273a483fce3e",
   "metadata": {},
   "outputs": [
    {
     "name": "stdout",
     "output_type": "stream",
     "text": [
      "11\n",
      "hello\n"
     ]
    }
   ],
   "source": [
    "def add(a,b):\n",
    "    a=3\n",
    "    b=8\n",
    "    c=a+b\n",
    "    print(c)\n",
    "add(a,b)\n",
    "print(\"hello\")"
   ]
  },
  {
   "cell_type": "markdown",
   "id": "0073a7da-cd48-4375-90df-c570847e2cf3",
   "metadata": {},
   "source": [
    "## application of atm "
   ]
  },
  {
   "cell_type": "code",
   "execution_count": 90,
   "id": "f5bafd33-aba4-43b7-8715-298c2a074fbf",
   "metadata": {},
   "outputs": [],
   "source": [
    "def withdraw(balance,amount):\n",
    "    if amount<balance:\n",
    "        balance=balance-amount\n",
    "        return balance\n",
    "    else:\n",
    "        print(\"insufficient amount\")"
   ]
  },
  {
   "cell_type": "code",
   "execution_count": 92,
   "id": "c5815c09-8ac5-4d40-84c2-42d9619ac0bf",
   "metadata": {},
   "outputs": [],
   "source": [
    "def deposite(balance,amount):\n",
    "    balance=balance+amount\n",
    "    return balance"
   ]
  },
  {
   "cell_type": "code",
   "execution_count": 118,
   "id": "a33b5c6f-04b8-4ecb-8853-df33db82ae56",
   "metadata": {},
   "outputs": [],
   "source": [
    "def ministatement(info):\n",
    "    print(info)"
   ]
  },
  {
   "cell_type": "code",
   "execution_count": 94,
   "id": "3d1cc254-76c2-499a-bfd9-fd5b7bfa6f87",
   "metadata": {},
   "outputs": [],
   "source": [
    "def transfer(balance,amount):\n",
    "    if amount<balance:\n",
    "        balance=balance-amount\n",
    "        return balance\n",
    "    else:\n",
    "        print(\"insufficient amount\")"
   ]
  },
  {
   "cell_type": "code",
   "execution_count": 108,
   "id": "1be5508c-4394-48d0-8547-747187fb8c19",
   "metadata": {},
   "outputs": [],
   "source": [
    "def showbal(val1,val2):\n",
    "    print(f\"your deposited amount is {val1} and current balance is {val2}\")"
   ]
  },
  {
   "cell_type": "code",
   "execution_count": 124,
   "id": "c787e362-d2b5-4bbe-8624-7e39878f9bcf",
   "metadata": {},
   "outputs": [
    {
     "name": "stdin",
     "output_type": "stream",
     "text": [
      "enter the pin:  2222\n"
     ]
    },
    {
     "name": "stdout",
     "output_type": "stream",
     "text": [
      "\n",
      "1.withdraw\n",
      "2.Deposite\n",
      "3.ministatement\n",
      "4.transfer\n",
      "5.exit\n"
     ]
    },
    {
     "name": "stdin",
     "output_type": "stream",
     "text": [
      "enter your choice :  1\n",
      "enter the amount : 345354\n"
     ]
    },
    {
     "name": "stdout",
     "output_type": "stream",
     "text": [
      "your deposited amount is 345354 and current balance is 1361600\n",
      "\n",
      "1.withdraw\n",
      "2.Deposite\n",
      "3.ministatement\n",
      "4.transfer\n",
      "5.exit\n"
     ]
    },
    {
     "name": "stdin",
     "output_type": "stream",
     "text": [
      "enter your choice :  2\n",
      "enter the amount : 34534\n"
     ]
    },
    {
     "name": "stdout",
     "output_type": "stream",
     "text": [
      "your deposited amount is 34534 and current balance is 1396134\n",
      "\n",
      "1.withdraw\n",
      "2.Deposite\n",
      "3.ministatement\n",
      "4.transfer\n",
      "5.exit\n"
     ]
    },
    {
     "name": "stdin",
     "output_type": "stream",
     "text": [
      "enter your choice :  1\n",
      "enter the amount : 4523\n"
     ]
    },
    {
     "name": "stdout",
     "output_type": "stream",
     "text": [
      "your deposited amount is 4523 and current balance is 1391611\n",
      "\n",
      "1.withdraw\n",
      "2.Deposite\n",
      "3.ministatement\n",
      "4.transfer\n",
      "5.exit\n"
     ]
    },
    {
     "name": "stdin",
     "output_type": "stream",
     "text": [
      "enter your choice :  3\n"
     ]
    },
    {
     "name": "stdout",
     "output_type": "stream",
     "text": [
      "['withdraw :345354', 'deposited :34534', 'withdraw :4523']\n",
      "\n",
      "1.withdraw\n",
      "2.Deposite\n",
      "3.ministatement\n",
      "4.transfer\n",
      "5.exit\n"
     ]
    },
    {
     "name": "stdin",
     "output_type": "stream",
     "text": [
      "enter your choice :  5\n"
     ]
    }
   ],
   "source": [
    "balance=2000000\n",
    "pin=int(input(\"enter the pin: \"))\n",
    "data=[]\n",
    "while True:\n",
    "    if(pin==2222):\n",
    "        print(\"\\n1.withdraw\\n2.Deposite\\n3.ministatement\\n4.transfer\\n5.exit\")\n",
    "        ch=int(input(\"enter your choice : \"))\n",
    "        if ch==1:\n",
    "            amt=int(input(\"enter the amount :\"))\n",
    "            bal=withdraw(bal,amt)\n",
    "            showbal(amt,bal)\n",
    "            data.append('withdraw :'+str(amt))\n",
    "        elif(ch==2):\n",
    "            amt=int(input(\"enter the amount :\"))\n",
    "            bal=deposite(bal,amt)\n",
    "            showbal(amt,bal)\n",
    "            data.append('deposited :'+str(amt))\n",
    "        elif(ch==3):\n",
    "            ministatement(data)\n",
    "        elif(ch==4):\n",
    "            amt=int(input(\"enter the amount :\"))\n",
    "            bal=transfer(bal,amt)\n",
    "            showbal(amt,bal)\n",
    "            data.append('transfer :'+str(amt))\n",
    "        elif(ch==5):\n",
    "            break\n",
    "    else:\n",
    "        print(\"invalid pin\")"
   ]
  },
  {
   "cell_type": "markdown",
   "id": "a2f1ec0e-dcf0-4820-b2a8-52df602aa841",
   "metadata": {},
   "source": [
    "## lambda function\n"
   ]
  },
  {
   "cell_type": "code",
   "execution_count": 139,
   "id": "fb239788-3ed2-4cd7-91b0-fc176a8626d8",
   "metadata": {},
   "outputs": [],
   "source": [
    "# lambda function is used to define the a single line expression \n",
    "# its syntax is ...... lambda args:expression \n",
    "# lambda function has no name so its also called as anonymous function\n",
    "# example:- lambda a,b:a+b\n",
    "# to store lambda function we can also define a variable \n",
    "# example :- add=lambda a,b:a+b"
   ]
  },
  {
   "cell_type": "code",
   "execution_count": 131,
   "id": "6227f5a1-a0ee-4e3c-ab4d-0bdbafe6e77c",
   "metadata": {},
   "outputs": [],
   "source": [
    "## area using lambda \n",
    "area=lambda a,b:a*b\n"
   ]
  },
  {
   "cell_type": "code",
   "execution_count": 133,
   "id": "d4140d50-19a8-4908-ae2a-63daceeae8b0",
   "metadata": {},
   "outputs": [
    {
     "data": {
      "text/plain": [
       "6"
      ]
     },
     "execution_count": 133,
     "metadata": {},
     "output_type": "execute_result"
    }
   ],
   "source": [
    "area(2,3)"
   ]
  },
  {
   "cell_type": "code",
   "execution_count": 135,
   "id": "ef4d0ab1-6db5-4aa3-ad5f-7e436f838f03",
   "metadata": {},
   "outputs": [],
   "source": [
    "num=lambda x:'even' if x%2==0 else 'odd'"
   ]
  },
  {
   "cell_type": "code",
   "execution_count": 137,
   "id": "89b5cc54-c740-4d72-be3e-5b353d39887e",
   "metadata": {},
   "outputs": [
    {
     "data": {
      "text/plain": [
       "'even'"
      ]
     },
     "execution_count": 137,
     "metadata": {},
     "output_type": "execute_result"
    }
   ],
   "source": [
    "num(8)"
   ]
  },
  {
   "cell_type": "code",
   "execution_count": null,
   "id": "9e0b33ed-4042-4e23-b85b-acb335397c50",
   "metadata": {},
   "outputs": [],
   "source": []
  }
 ],
 "metadata": {
  "kernelspec": {
   "display_name": "Python 3 (ipykernel)",
   "language": "python",
   "name": "python3"
  },
  "language_info": {
   "codemirror_mode": {
    "name": "ipython",
    "version": 3
   },
   "file_extension": ".py",
   "mimetype": "text/x-python",
   "name": "python",
   "nbconvert_exporter": "python",
   "pygments_lexer": "ipython3",
   "version": "3.12.4"
  }
 },
 "nbformat": 4,
 "nbformat_minor": 5
}

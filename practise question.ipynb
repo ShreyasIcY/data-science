{
 "cells": [
  {
   "cell_type": "code",
   "execution_count": 1,
   "id": "00a55558-5291-4e0b-a176-d4b2c0ecff92",
   "metadata": {},
   "outputs": [],
   "source": [
    "## fib numbers"
   ]
  },
  {
   "cell_type": "code",
   "execution_count": 3,
   "id": "8c6e9c32-6657-405e-afcc-f9e444343146",
   "metadata": {},
   "outputs": [
    {
     "name": "stdout",
     "output_type": "stream",
     "text": [
      "0\n",
      "1\n",
      "1\n",
      "2\n",
      "3\n",
      "5\n",
      "8\n",
      "13\n",
      "21\n",
      "34\n",
      "55\n",
      "89\n",
      "144\n",
      "233\n",
      "377\n",
      "610\n",
      "987\n",
      "1597\n",
      "2584\n",
      "4181\n"
     ]
    }
   ],
   "source": [
    "a=0\n",
    "b=1\n",
    "for i in range(20):\n",
    "    print(a)\n",
    "    a,b = b,a+b"
   ]
  },
  {
   "cell_type": "code",
   "execution_count": 4,
   "id": "31151cf0-6941-404b-b3c2-4ab489ca3ec7",
   "metadata": {},
   "outputs": [
    {
     "name": "stdin",
     "output_type": "stream",
     "text": [
      " 3000\n"
     ]
    },
    {
     "name": "stdout",
     "output_type": "stream",
     "text": [
      "its not a leap year\n"
     ]
    }
   ],
   "source": [
    "# leap year\n",
    "year=int(input())\n",
    "if (year%4==0 and year%100!=0) or (year%400==0):\n",
    "    print(\"its a leap year\")\n",
    "else:\n",
    "    print(\"its not a leap year\")"
   ]
  },
  {
   "cell_type": "code",
   "execution_count": 16,
   "id": "b57451ac-b009-4fea-89e1-48b47ef3ed9d",
   "metadata": {},
   "outputs": [
    {
     "name": "stdin",
     "output_type": "stream",
     "text": [
      " 765\n"
     ]
    },
    {
     "name": "stdout",
     "output_type": "stream",
     "text": [
      "18\n"
     ]
    }
   ],
   "source": [
    "#sum of digits\n",
    "num=int(input())\n",
    "res=0\n",
    "while num>0:\n",
    "    rem=num%10\n",
    "    res=res+rem\n",
    "    num=num//10\n",
    "print(res)"
   ]
  },
  {
   "cell_type": "code",
   "execution_count": 20,
   "id": "567f6ec8-4aa6-4fed-bc71-c80b0b9cde20",
   "metadata": {},
   "outputs": [
    {
     "name": "stdout",
     "output_type": "stream",
     "text": [
      "1 x 1 = 1\n",
      "1 x 2 = 2\n",
      "1 x 3 = 3\n",
      "1 x 4 = 4\n",
      "1 x 5 = 5\n",
      "1 x 6 = 6\n",
      "1 x 7 = 7\n",
      "1 x 8 = 8\n",
      "1 x 9 = 9\n",
      "1 x 10 = 10\n",
      "\n",
      "2 x 1 = 2\n",
      "2 x 2 = 4\n",
      "2 x 3 = 6\n",
      "2 x 4 = 8\n",
      "2 x 5 = 10\n",
      "2 x 6 = 12\n",
      "2 x 7 = 14\n",
      "2 x 8 = 16\n",
      "2 x 9 = 18\n",
      "2 x 10 = 20\n",
      "\n",
      "3 x 1 = 3\n",
      "3 x 2 = 6\n",
      "3 x 3 = 9\n",
      "3 x 4 = 12\n",
      "3 x 5 = 15\n",
      "3 x 6 = 18\n",
      "3 x 7 = 21\n",
      "3 x 8 = 24\n",
      "3 x 9 = 27\n",
      "3 x 10 = 30\n",
      "\n",
      "4 x 1 = 4\n",
      "4 x 2 = 8\n",
      "4 x 3 = 12\n",
      "4 x 4 = 16\n",
      "4 x 5 = 20\n",
      "4 x 6 = 24\n",
      "4 x 7 = 28\n",
      "4 x 8 = 32\n",
      "4 x 9 = 36\n",
      "4 x 10 = 40\n",
      "\n",
      "5 x 1 = 5\n",
      "5 x 2 = 10\n",
      "5 x 3 = 15\n",
      "5 x 4 = 20\n",
      "5 x 5 = 25\n",
      "5 x 6 = 30\n",
      "5 x 7 = 35\n",
      "5 x 8 = 40\n",
      "5 x 9 = 45\n",
      "5 x 10 = 50\n",
      "\n"
     ]
    }
   ],
   "source": [
    "## print table from 1 to 5\n",
    "for i in range(1,6):\n",
    "    for j in range(1,11):\n",
    "        print(i,\"x\",j,\"=\",i*j)\n",
    "    print(       )"
   ]
  },
  {
   "cell_type": "code",
   "execution_count": 65,
   "id": "431886fa-0e40-4001-aa22-6bdb28566240",
   "metadata": {},
   "outputs": [
    {
     "name": "stdout",
     "output_type": "stream",
     "text": [
      "3\n",
      "6\n",
      "9\n"
     ]
    }
   ],
   "source": [
    "#print the first 3 multiples of from 1 to 20 \n",
    "count=0\n",
    "for i in range(1,20):\n",
    "    if(i%3==0):\n",
    "        print(i)\n",
    "        count+=1\n",
    "    elif(count==3):\n",
    "        break  "
   ]
  },
  {
   "cell_type": "code",
   "execution_count": null,
   "id": "cc475f56-8b28-40de-ba2a-1dd0e69ebf5a",
   "metadata": {},
   "outputs": [],
   "source": []
  }
 ],
 "metadata": {
  "kernelspec": {
   "display_name": "Python 3 (ipykernel)",
   "language": "python",
   "name": "python3"
  },
  "language_info": {
   "codemirror_mode": {
    "name": "ipython",
    "version": 3
   },
   "file_extension": ".py",
   "mimetype": "text/x-python",
   "name": "python",
   "nbconvert_exporter": "python",
   "pygments_lexer": "ipython3",
   "version": "3.12.4"
  }
 },
 "nbformat": 4,
 "nbformat_minor": 5
}

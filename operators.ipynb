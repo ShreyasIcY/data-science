{
 "cells": [
  {
   "cell_type": "code",
   "execution_count": 1,
   "id": "0285fdbc-d87a-4d4a-a6f4-97b0bd4ecc2c",
   "metadata": {},
   "outputs": [],
   "source": [
    "city=\"pune\""
   ]
  },
  {
   "cell_type": "code",
   "execution_count": 3,
   "id": "a34472c7-7bf3-4e82-ba8c-6a0baa511386",
   "metadata": {},
   "outputs": [
    {
     "data": {
      "text/plain": [
       "'pune'"
      ]
     },
     "execution_count": 3,
     "metadata": {},
     "output_type": "execute_result"
    }
   ],
   "source": [
    "city"
   ]
  },
  {
   "cell_type": "code",
   "execution_count": 5,
   "id": "7e38ea89-274d-4132-8105-c0a29700d89c",
   "metadata": {},
   "outputs": [],
   "source": [
    "name=\"shreyas\""
   ]
  },
  {
   "cell_type": "code",
   "execution_count": 7,
   "id": "b4e77dcf-ba5d-4791-a379-90db58c46f69",
   "metadata": {},
   "outputs": [
    {
     "data": {
      "text/plain": [
       "'shreyas'"
      ]
     },
     "execution_count": 7,
     "metadata": {},
     "output_type": "execute_result"
    }
   ],
   "source": [
    "name"
   ]
  },
  {
   "cell_type": "code",
   "execution_count": 19,
   "id": "93e556aa-b6cb-4083-88f7-b300548b4d25",
   "metadata": {},
   "outputs": [],
   "source": [
    "_perc=98.5"
   ]
  },
  {
   "cell_type": "code",
   "execution_count": 21,
   "id": "2d4db129-5a59-46c3-b7c8-0d13099845ed",
   "metadata": {},
   "outputs": [
    {
     "data": {
      "text/plain": [
       "98.5"
      ]
     },
     "execution_count": 21,
     "metadata": {},
     "output_type": "execute_result"
    }
   ],
   "source": [
    "_perc"
   ]
  },
  {
   "cell_type": "code",
   "execution_count": 23,
   "id": "c8864dca-bbf9-4ec8-8453-811991c18e0e",
   "metadata": {},
   "outputs": [
    {
     "ename": "SyntaxError",
     "evalue": "invalid decimal literal (149463764.py, line 1)",
     "output_type": "error",
     "traceback": [
      "\u001b[1;36m  Cell \u001b[1;32mIn[23], line 1\u001b[1;36m\u001b[0m\n\u001b[1;33m    5num=10\u001b[0m\n\u001b[1;37m    ^\u001b[0m\n\u001b[1;31mSyntaxError\u001b[0m\u001b[1;31m:\u001b[0m invalid decimal literal\n"
     ]
    }
   ],
   "source": [
    "5num=10"
   ]
  },
  {
   "cell_type": "code",
   "execution_count": 25,
   "id": "3affe4fb-1b45-4cf3-b03a-8507d895c404",
   "metadata": {},
   "outputs": [],
   "source": [
    "num=23"
   ]
  },
  {
   "cell_type": "code",
   "execution_count": 28,
   "id": "15a2e212-760b-4b14-b83f-aa341a98f128",
   "metadata": {},
   "outputs": [
    {
     "data": {
      "text/plain": [
       "23"
      ]
     },
     "execution_count": 28,
     "metadata": {},
     "output_type": "execute_result"
    }
   ],
   "source": [
    "num"
   ]
  },
  {
   "cell_type": "code",
   "execution_count": 32,
   "id": "61094ce6-c3aa-411f-92f9-f52023096ef6",
   "metadata": {},
   "outputs": [],
   "source": [
    "country=\"aus\""
   ]
  },
  {
   "cell_type": "code",
   "execution_count": 34,
   "id": "07bd6b5e-38fd-4349-860a-44bb004f3209",
   "metadata": {},
   "outputs": [
    {
     "data": {
      "text/plain": [
       "'aus'"
      ]
     },
     "execution_count": 34,
     "metadata": {},
     "output_type": "execute_result"
    }
   ],
   "source": [
    "country"
   ]
  },
  {
   "cell_type": "code",
   "execution_count": 36,
   "id": "1ee72e37-063b-4e24-8e92-ae429367b926",
   "metadata": {},
   "outputs": [
    {
     "ename": "SyntaxError",
     "evalue": "invalid syntax. Maybe you meant '==' or ':=' instead of '='? (504005796.py, line 1)",
     "output_type": "error",
     "traceback": [
      "\u001b[1;36m  Cell \u001b[1;32mIn[36], line 1\u001b[1;36m\u001b[0m\n\u001b[1;33m    @country=\"aus\"\u001b[0m\n\u001b[1;37m     ^\u001b[0m\n\u001b[1;31mSyntaxError\u001b[0m\u001b[1;31m:\u001b[0m invalid syntax. Maybe you meant '==' or ':=' instead of '='?\n"
     ]
    }
   ],
   "source": [
    "@country=\"aus\""
   ]
  },
  {
   "cell_type": "code",
   "execution_count": 38,
   "id": "217865e4-6660-4470-ae9c-cd0c61eb6d66",
   "metadata": {},
   "outputs": [
    {
     "data": {
      "text/plain": [
       "str"
      ]
     },
     "execution_count": 38,
     "metadata": {},
     "output_type": "execute_result"
    }
   ],
   "source": [
    "type(name)"
   ]
  },
  {
   "cell_type": "code",
   "execution_count": 40,
   "id": "05f7ae42-8982-4db4-93cf-18832e558383",
   "metadata": {},
   "outputs": [
    {
     "data": {
      "text/plain": [
       "str"
      ]
     },
     "execution_count": 40,
     "metadata": {},
     "output_type": "execute_result"
    }
   ],
   "source": [
    "type(city)"
   ]
  },
  {
   "cell_type": "code",
   "execution_count": 42,
   "id": "e79d95f6-0720-41f2-bbd7-3ed8c18ee009",
   "metadata": {},
   "outputs": [
    {
     "data": {
      "text/plain": [
       "int"
      ]
     },
     "execution_count": 42,
     "metadata": {},
     "output_type": "execute_result"
    }
   ],
   "source": [
    "type(num)"
   ]
  },
  {
   "cell_type": "code",
   "execution_count": 44,
   "id": "bc6614ab-c868-45ad-a262-e3b163a4e1dd",
   "metadata": {},
   "outputs": [
    {
     "data": {
      "text/plain": [
       "float"
      ]
     },
     "execution_count": 44,
     "metadata": {},
     "output_type": "execute_result"
    }
   ],
   "source": [
    "type(_perc)"
   ]
  },
  {
   "cell_type": "code",
   "execution_count": 46,
   "id": "a577abc0-9bfd-444c-b89a-ef74e9fc8eb4",
   "metadata": {},
   "outputs": [],
   "source": [
    "data=False "
   ]
  },
  {
   "cell_type": "code",
   "execution_count": 48,
   "id": "0f73d8be-8505-4150-a2e2-98f9dc641bfe",
   "metadata": {},
   "outputs": [
    {
     "data": {
      "text/plain": [
       "bool"
      ]
     },
     "execution_count": 48,
     "metadata": {},
     "output_type": "execute_result"
    }
   ],
   "source": [
    "type(data)"
   ]
  },
  {
   "cell_type": "code",
   "execution_count": 52,
   "id": "3d091f4f-2269-41b0-aa6b-30a6bab40886",
   "metadata": {},
   "outputs": [
    {
     "data": {
      "text/plain": [
       "str"
      ]
     },
     "execution_count": 52,
     "metadata": {},
     "output_type": "execute_result"
    }
   ],
   "source": [
    "type(country)"
   ]
  },
  {
   "cell_type": "code",
   "execution_count": 19,
   "id": "7c3f8122-a57a-4e5d-aa37-143457fb83d1",
   "metadata": {},
   "outputs": [
    {
     "name": "stdin",
     "output_type": "stream",
     "text": [
      "enter any value 5\n",
      "enter any value 7\n"
     ]
    },
    {
     "name": "stdout",
     "output_type": "stream",
     "text": [
      "the output is 0.7142857142857143\n"
     ]
    }
   ],
   "source": [
    "c=float(input(\"enter any value\"))\n",
    "d=float(input(\"enter any value\"))\n",
    "div=c/d\n",
    "print(\"the output is\",div)"
   ]
  },
  {
   "cell_type": "code",
   "execution_count": 11,
   "id": "aeeca58c-dda7-4876-843f-2e788aac689e",
   "metadata": {},
   "outputs": [
    {
     "name": "stdin",
     "output_type": "stream",
     "text": [
      "Say something: idk what to \n"
     ]
    }
   ],
   "source": [
    "e=str(input(\"Say something:\"))"
   ]
  },
  {
   "cell_type": "code",
   "execution_count": 21,
   "id": "295c7564-11b5-417a-a6cb-c54eaa1706c1",
   "metadata": {},
   "outputs": [
    {
     "name": "stdin",
     "output_type": "stream",
     "text": [
      "enter any value 6\n",
      "enter the 2nd value 8\n"
     ]
    },
    {
     "name": "stdout",
     "output_type": "stream",
     "text": [
      "the output is: 14\n"
     ]
    }
   ],
   "source": [
    "c=int(input(\"enter any value\"))\n",
    "d=int(input(\"enter the 2nd value\"))\n",
    "add=c+d\n",
    "print(\"the output is:\",add)"
   ]
  },
  {
   "cell_type": "code",
   "execution_count": null,
   "id": "05e08827-91e1-40a7-b879-24e431f17fef",
   "metadata": {},
   "outputs": [],
   "source": [
    "## Areas of shapes"
   ]
  },
  {
   "cell_type": "code",
   "execution_count": 23,
   "id": "79829138-eca6-4642-b420-1f3fc8efce10",
   "metadata": {},
   "outputs": [
    {
     "name": "stdin",
     "output_type": "stream",
     "text": [
      "enter the side of square 4\n"
     ]
    },
    {
     "name": "stdout",
     "output_type": "stream",
     "text": [
      "the area of square is: 16.0\n"
     ]
    }
   ],
   "source": [
    "side=float(input(\"enter the side of square\"))\n",
    "area=side*side\n",
    "print(\"the area of square is:\",area)"
   ]
  },
  {
   "cell_type": "code",
   "execution_count": 27,
   "id": "ec588874-2b16-4fbd-b002-95428a4039a6",
   "metadata": {},
   "outputs": [
    {
     "name": "stdin",
     "output_type": "stream",
     "text": [
      "enter the length: 45\n",
      "enter the breadth: 56\n"
     ]
    },
    {
     "name": "stdout",
     "output_type": "stream",
     "text": [
      "the area of rectqangle is: 2520.0\n"
     ]
    }
   ],
   "source": [
    "len=float(input(\"enter the length:\"))\n",
    "bre=float(input(\"enter the breadth\")\n",
    "area=len*bre\n",
    "print(\"the area of rectqangle is:\",area)"
   ]
  },
  {
   "cell_type": "code",
   "execution_count": 37,
   "id": "dd787e10-7e66-4446-a844-b81ab28a4704",
   "metadata": {},
   "outputs": [
    {
     "name": "stdin",
     "output_type": "stream",
     "text": [
      "enter the base of the triangle: 34\n",
      "enter the height of the triangle: 23\n"
     ]
    },
    {
     "name": "stdout",
     "output_type": "stream",
     "text": [
      "the area of triangle is : 391.0\n"
     ]
    }
   ],
   "source": [
    "base=float(input(\"enter the base of the triangle:\"))\n",
    "height=float(input(\"enter the height of the triangle:\"))\n",
    "area=(base*height)/2\n",
    "print(\"the area of triangle is :\",area)"
   ]
  },
  {
   "cell_type": "code",
   "execution_count": 39,
   "id": "59efd467-d3cd-4cc8-a09c-cf6b1eaca343",
   "metadata": {},
   "outputs": [
    {
     "name": "stdin",
     "output_type": "stream",
     "text": [
      "enter the radius: 5\n"
     ]
    },
    {
     "name": "stdout",
     "output_type": "stream",
     "text": [
      "the area of circle is: 78.5\n"
     ]
    }
   ],
   "source": [
    "rad=float(input(\"enter the radius:\"))\n",
    "area=3.14*rad*rad\n",
    "print(\"the area of circle is:\",area)"
   ]
  },
  {
   "cell_type": "code",
   "execution_count": null,
   "id": "3bfe94ed-b848-410a-94ce-be1d982bcdd4",
   "metadata": {},
   "outputs": [],
   "source": []
  }
 ],
 "metadata": {
  "kernelspec": {
   "display_name": "Python 3 (ipykernel)",
   "language": "python",
   "name": "python3"
  },
  "language_info": {
   "codemirror_mode": {
    "name": "ipython",
    "version": 3
   },
   "file_extension": ".py",
   "mimetype": "text/x-python",
   "name": "python",
   "nbconvert_exporter": "python",
   "pygments_lexer": "ipython3",
   "version": "3.12.4"
  }
 },
 "nbformat": 4,
 "nbformat_minor": 5
}

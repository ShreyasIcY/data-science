{
 "cells": [
  {
   "cell_type": "code",
   "execution_count": null,
   "id": "1651e8e7-78a5-4431-ac07-98dd90e08259",
   "metadata": {},
   "outputs": [],
   "source": [
    "## if statement "
   ]
  },
  {
   "cell_type": "code",
   "execution_count": 7,
   "id": "e262b933-1572-4fcc-be05-f6e1859b4529",
   "metadata": {},
   "outputs": [
    {
     "name": "stdout",
     "output_type": "stream",
     "text": [
      "kya bkl same nhi hai\n"
     ]
    }
   ],
   "source": [
    "a=15\n",
    "b=34\n",
    "if(a==b):\n",
    "    print(\"same hai re\")\n",
    "print(\"kya bkl same nhi hai\")"
   ]
  },
  {
   "cell_type": "code",
   "execution_count": 3,
   "id": "4b082541-c42d-4f41-82d7-237567273caf",
   "metadata": {},
   "outputs": [
    {
     "name": "stdout",
     "output_type": "stream",
     "text": [
      "both are same a= 10 b= 10\n"
     ]
    }
   ],
   "source": [
    "a=10\n",
    "b=10\n",
    "if(a>b):\n",
    "    print(\"a is greater than b:\",a)\n",
    "elif(b>a):\n",
    "    print(\"b is greater than a:\",b)\n",
    "else:\n",
    "    print(\"both are same\",\"a=\",a,\"b=\",b)"
   ]
  },
  {
   "cell_type": "code",
   "execution_count": 9,
   "id": "a50eaf5d-f1b3-4188-8e33-0c0eaa497920",
   "metadata": {},
   "outputs": [
    {
     "name": "stdout",
     "output_type": "stream",
     "text": [
      "b is greater:\n",
      "hogaya program\n"
     ]
    }
   ],
   "source": [
    "a=12\n",
    "b=23\n",
    "if(a>b):\n",
    "    print(\"a is greater:\")\n",
    "    print(\"in if\")\n",
    "else:\n",
    "    print(\"b is greater:\")\n",
    "print(\"hogaya program\")"
   ]
  },
  {
   "cell_type": "code",
   "execution_count": null,
   "id": "283e4b6e-5975-45df-a942-79d64d940e26",
   "metadata": {},
   "outputs": [],
   "source": []
  }
 ],
 "metadata": {
  "kernelspec": {
   "display_name": "Python 3 (ipykernel)",
   "language": "python",
   "name": "python3"
  },
  "language_info": {
   "codemirror_mode": {
    "name": "ipython",
    "version": 3
   },
   "file_extension": ".py",
   "mimetype": "text/x-python",
   "name": "python",
   "nbconvert_exporter": "python",
   "pygments_lexer": "ipython3",
   "version": "3.12.4"
  }
 },
 "nbformat": 4,
 "nbformat_minor": 5
}

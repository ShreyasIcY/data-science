{
 "cells": [
  {
   "cell_type": "code",
   "execution_count": null,
   "id": "1651e8e7-78a5-4431-ac07-98dd90e08259",
   "metadata": {},
   "outputs": [],
   "source": [
    "## if statement "
   ]
  },
  {
   "cell_type": "code",
   "execution_count": 31,
   "id": "e262b933-1572-4fcc-be05-f6e1859b4529",
   "metadata": {},
   "outputs": [
    {
     "name": "stdout",
     "output_type": "stream",
     "text": [
      "not same\n"
     ]
    }
   ],
   "source": [
    "a=15\n",
    "b=34\n",
    "if(a==b):\n",
    "    print(\"same\")\n",
    "print(\"not same\")"
   ]
  },
  {
   "cell_type": "code",
   "execution_count": 33,
   "id": "4b082541-c42d-4f41-82d7-237567273caf",
   "metadata": {},
   "outputs": [
    {
     "name": "stdout",
     "output_type": "stream",
     "text": [
      "both are same a= 10 b= 10\n"
     ]
    }
   ],
   "source": [
    "a=10\n",
    "b=10\n",
    "if(a>b):\n",
    "    print(\"a is greater than b:\",a)\n",
    "elif(b>a):\n",
    "    print(\"b is greater than a:\",b)\n",
    "else:\n",
    "    print(\"both are same\",\"a=\",a,\"b=\",b)"
   ]
  },
  {
   "cell_type": "code",
   "execution_count": 35,
   "id": "a50eaf5d-f1b3-4188-8e33-0c0eaa497920",
   "metadata": {},
   "outputs": [
    {
     "name": "stdout",
     "output_type": "stream",
     "text": [
      "b is greater:\n",
      "hogaya program\n"
     ]
    }
   ],
   "source": [
    "a=12\n",
    "b=23\n",
    "if(a>b):\n",
    "    print(\"a is greater:\")\n",
    "    print(\"in if\")\n",
    "else:\n",
    "    print(\"b is greater:\")\n",
    "print(\"hogaya program\")"
   ]
  },
  {
   "cell_type": "code",
   "execution_count": 37,
   "id": "2b902a43-027b-4b7c-a7f6-3293e45fe5c3",
   "metadata": {},
   "outputs": [],
   "source": [
    "## check if the number is positive or negative "
   ]
  },
  {
   "cell_type": "code",
   "execution_count": 39,
   "id": "283e4b6e-5975-45df-a942-79d64d940e26",
   "metadata": {},
   "outputs": [
    {
     "name": "stdin",
     "output_type": "stream",
     "text": [
      "enter the number: 78\n"
     ]
    },
    {
     "name": "stdout",
     "output_type": "stream",
     "text": [
      "the number is positive: 78\n"
     ]
    }
   ],
   "source": [
    "num=int(input(\"enter the number:\"))\n",
    "if(num>0):\n",
    "    print(\"the number is positive:\",num)\n",
    "elif(num<0):\n",
    "    print(\"the number is negative:\",num)\n",
    "else:\n",
    "    print(\"the number is zero\")"
   ]
  },
  {
   "cell_type": "code",
   "execution_count": null,
   "id": "c6fa217b-b41c-437e-b303-15a2ca62c519",
   "metadata": {},
   "outputs": [],
   "source": [
    "## check if the number is even or odd"
   ]
  },
  {
   "cell_type": "code",
   "execution_count": 17,
   "id": "a42f7c99-ddec-492d-9d37-5562c347e048",
   "metadata": {},
   "outputs": [
    {
     "name": "stdin",
     "output_type": "stream",
     "text": [
      "enter the number 0\n"
     ]
    },
    {
     "name": "stdout",
     "output_type": "stream",
     "text": [
      "the number is even: 0\n"
     ]
    }
   ],
   "source": [
    "num=int(input(\"enter the number\"))\n",
    "if(num%2==0):\n",
    "    print(\"the number is even:\",num)\n",
    "else:\n",
    "    print(\"the number is odd\",num)"
   ]
  },
  {
   "cell_type": "code",
   "execution_count": null,
   "id": "1d13efc8-aedf-4aeb-8833-70acb6df46e1",
   "metadata": {},
   "outputs": [],
   "source": [
    "## different ways to write print without using print function "
   ]
  },
  {
   "cell_type": "code",
   "execution_count": 19,
   "id": "24778a50-988b-42a4-9672-e079593dbb2f",
   "metadata": {},
   "outputs": [
    {
     "name": "stdout",
     "output_type": "stream",
     "text": [
      "heyy"
     ]
    },
    {
     "data": {
      "text/plain": [
       "4"
      ]
     },
     "execution_count": 19,
     "metadata": {},
     "output_type": "execute_result"
    }
   ],
   "source": [
    "import sys\n",
    "sys.stdout.write(\"heyy\")"
   ]
  },
  {
   "cell_type": "code",
   "execution_count": 21,
   "id": "e0f09ce6-3256-4d52-85b0-befddd20223d",
   "metadata": {},
   "outputs": [
    {
     "data": {
      "text/plain": [
       "'heyyy'"
      ]
     },
     "execution_count": 21,
     "metadata": {},
     "output_type": "execute_result"
    }
   ],
   "source": [
    "str.format(\"heyyy\")"
   ]
  },
  {
   "cell_type": "code",
   "execution_count": null,
   "id": "11cecaee-0350-4c72-93b3-58ed6e2cf258",
   "metadata": {},
   "outputs": [],
   "source": [
    "## while loops "
   ]
  },
  {
   "cell_type": "code",
   "execution_count": 13,
   "id": "38ca0091-e0ee-4ea6-9323-34f5c04ae4b9",
   "metadata": {},
   "outputs": [
    {
     "name": "stdout",
     "output_type": "stream",
     "text": [
      "1\n",
      "2\n",
      "3\n",
      "4\n",
      "5\n",
      "6\n",
      "7\n",
      "8\n",
      "9\n",
      "10\n",
      "hello\n"
     ]
    }
   ],
   "source": [
    "a=0\n",
    "while(a<10):\n",
    "    a=a+1\n",
    "    print(a)\n",
    "print(\"hello\")"
   ]
  },
  {
   "cell_type": "code",
   "execution_count": 3,
   "id": "5d74770f-a9e1-49ae-bc4b-ce876968b11f",
   "metadata": {},
   "outputs": [
    {
     "name": "stdin",
     "output_type": "stream",
     "text": [
      "enter a number 5\n"
     ]
    },
    {
     "name": "stdout",
     "output_type": "stream",
     "text": [
      "10\n",
      "15\n",
      "20\n",
      "25\n",
      "30\n",
      "35\n",
      "40\n",
      "45\n",
      "50\n",
      "done\n"
     ]
    }
   ],
   "source": [
    "num=int(input(\"enter a number\"))\n",
    "a=1\n",
    "while(a<10):\n",
    "    a=a+1\n",
    "    print(a*num)\n",
    "print(\"done\")"
   ]
  },
  {
   "cell_type": "code",
   "execution_count": null,
   "id": "0bff71c1-1b64-4e3f-9032-54418d3ea133",
   "metadata": {},
   "outputs": [],
   "source": [
    "##  find factorial of a number "
   ]
  },
  {
   "cell_type": "code",
   "execution_count": 7,
   "id": "41551948-1676-4f5e-b6db-b2e3c080641e",
   "metadata": {},
   "outputs": [
    {
     "name": "stdin",
     "output_type": "stream",
     "text": [
      " 5\n"
     ]
    },
    {
     "name": "stdout",
     "output_type": "stream",
     "text": [
      "factorial 120\n"
     ]
    }
   ],
   "source": [
    "num=int(input())\n",
    "res=1\n",
    "a=1\n",
    "while(a<=num):\n",
    "    res=res*a\n",
    "    a=a+1\n",
    "print(\"factorial\",res)"
   ]
  },
  {
   "cell_type": "code",
   "execution_count": null,
   "id": "aedd2591-01b9-4f75-9a61-0e3a3e9cad9a",
   "metadata": {},
   "outputs": [],
   "source": [
    "## addition of digits"
   ]
  },
  {
   "cell_type": "code",
   "execution_count": 13,
   "id": "8a8adb6d-9e7c-42ea-9aee-144dea240ed4",
   "metadata": {},
   "outputs": [
    {
     "name": "stdin",
     "output_type": "stream",
     "text": [
      " 567\n"
     ]
    },
    {
     "name": "stdout",
     "output_type": "stream",
     "text": [
      "18\n"
     ]
    }
   ],
   "source": [
    "num=int(input())\n",
    "sum=0\n",
    "while(num>0):\n",
    "    rem=num%10\n",
    "    sum=sum+rem\n",
    "    num=num//10\n",
    "print(sum)"
   ]
  },
  {
   "cell_type": "code",
   "execution_count": null,
   "id": "c582b8fb-ff04-489c-b93b-93f1002f6008",
   "metadata": {},
   "outputs": [],
   "source": []
  }
 ],
 "metadata": {
  "kernelspec": {
   "display_name": "Python 3 (ipykernel)",
   "language": "python",
   "name": "python3"
  },
  "language_info": {
   "codemirror_mode": {
    "name": "ipython",
    "version": 3
   },
   "file_extension": ".py",
   "mimetype": "text/x-python",
   "name": "python",
   "nbconvert_exporter": "python",
   "pygments_lexer": "ipython3",
   "version": "3.12.4"
  }
 },
 "nbformat": 4,
 "nbformat_minor": 5
}

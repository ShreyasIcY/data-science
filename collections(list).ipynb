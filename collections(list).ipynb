{
 "cells": [
  {
   "cell_type": "code",
   "execution_count": 1,
   "id": "6572741a-798f-459c-b7af-f837066139cf",
   "metadata": {},
   "outputs": [],
   "source": [
    "## LIST"
   ]
  },
  {
   "cell_type": "code",
   "execution_count": null,
   "id": "5c95c26c-51ef-4b5c-b2b3-4263f3c668c9",
   "metadata": {},
   "outputs": [],
   "source": [
    "## list is the collection of homogenous as well as hetrogenous \n",
    "## list elements are enclosed in []\n",
    "## list elements are seperated by ,\n",
    "## list elements access by +ve and -ve indexing\n",
    "## list are mutable\n",
    "## slicing works on list [start,end,step]\n",
    "## list can be representd by L1=[], L2=list()"
   ]
  },
  {
   "cell_type": "code",
   "execution_count": 3,
   "id": "aed17049-91ec-4d39-92cb-953a2a50d390",
   "metadata": {},
   "outputs": [],
   "source": [
    "L3=[1,2,3,4,5,6,7,8,9,10]"
   ]
  },
  {
   "cell_type": "code",
   "execution_count": 5,
   "id": "2ae08643-4044-421e-b7dc-86a01c4c121a",
   "metadata": {},
   "outputs": [
    {
     "data": {
      "text/plain": [
       "[1, 2, 3, 4, 5, 6, 7, 8, 9, 10]"
      ]
     },
     "execution_count": 5,
     "metadata": {},
     "output_type": "execute_result"
    }
   ],
   "source": [
    "L3"
   ]
  },
  {
   "cell_type": "code",
   "execution_count": 7,
   "id": "26f1656d-f4cf-4ff8-9574-6f21921784a7",
   "metadata": {},
   "outputs": [
    {
     "data": {
      "text/plain": [
       "list"
      ]
     },
     "execution_count": 7,
     "metadata": {},
     "output_type": "execute_result"
    }
   ],
   "source": [
    "type(L3)"
   ]
  },
  {
   "cell_type": "code",
   "execution_count": null,
   "id": "26d81bfd-fed0-434f-b912-52d63a2881e3",
   "metadata": {},
   "outputs": [],
   "source": [
    "## hetrogenous list"
   ]
  },
  {
   "cell_type": "code",
   "execution_count": 14,
   "id": "7af4b422-450c-456a-b210-53532fdf204e",
   "metadata": {},
   "outputs": [],
   "source": [
    "L4=[3,4,6,6,7,5,\"g\",5,]"
   ]
  },
  {
   "cell_type": "code",
   "execution_count": 16,
   "id": "cb1d652d-f4e1-4cf6-8d3d-68e4946ea844",
   "metadata": {},
   "outputs": [
    {
     "data": {
      "text/plain": [
       "[3, 4, 6, 6, 7, 5, 'g', 5]"
      ]
     },
     "execution_count": 16,
     "metadata": {},
     "output_type": "execute_result"
    }
   ],
   "source": [
    "L4"
   ]
  },
  {
   "cell_type": "code",
   "execution_count": 58,
   "id": "69bfd6bf-8d98-4000-b4d0-f8114beddfca",
   "metadata": {},
   "outputs": [],
   "source": [
    "L5=[3,5,6,\"srs\",True,4.5,]"
   ]
  },
  {
   "cell_type": "code",
   "execution_count": 60,
   "id": "48761c78-d445-42fe-8ef9-3fbed3126d4b",
   "metadata": {},
   "outputs": [
    {
     "data": {
      "text/plain": [
       "[3, 5, 6, 'srs', True, 4.5]"
      ]
     },
     "execution_count": 60,
     "metadata": {},
     "output_type": "execute_result"
    }
   ],
   "source": [
    "L5"
   ]
  },
  {
   "cell_type": "code",
   "execution_count": 22,
   "id": "38c70faa-0249-4cb7-a2b4-8ba1cbb2dc0d",
   "metadata": {},
   "outputs": [
    {
     "data": {
      "text/plain": [
       "5"
      ]
     },
     "execution_count": 22,
     "metadata": {},
     "output_type": "execute_result"
    }
   ],
   "source": [
    "L3[4]"
   ]
  },
  {
   "cell_type": "code",
   "execution_count": 24,
   "id": "09e7e57f-f8ff-49d5-8827-475cf3284826",
   "metadata": {},
   "outputs": [
    {
     "data": {
      "text/plain": [
       "1"
      ]
     },
     "execution_count": 24,
     "metadata": {},
     "output_type": "execute_result"
    }
   ],
   "source": [
    "L3[0]"
   ]
  },
  {
   "cell_type": "code",
   "execution_count": 26,
   "id": "c80222f1-f343-457b-960b-c201b84be768",
   "metadata": {},
   "outputs": [
    {
     "data": {
      "text/plain": [
       "10"
      ]
     },
     "execution_count": 26,
     "metadata": {},
     "output_type": "execute_result"
    }
   ],
   "source": [
    "L3[-1]"
   ]
  },
  {
   "cell_type": "code",
   "execution_count": 54,
   "id": "391fb614-d626-49de-85c8-46c3dad478ea",
   "metadata": {},
   "outputs": [
    {
     "data": {
      "text/plain": [
       "[3, 4, 5, 6]"
      ]
     },
     "execution_count": 54,
     "metadata": {},
     "output_type": "execute_result"
    }
   ],
   "source": [
    "L3[2:6:1]"
   ]
  },
  {
   "cell_type": "code",
   "execution_count": 52,
   "id": "a10497c2-d464-4073-ad37-c039bc89b824",
   "metadata": {},
   "outputs": [
    {
     "data": {
      "text/plain": [
       "[1, 3, 5, 7]"
      ]
     },
     "execution_count": 52,
     "metadata": {},
     "output_type": "execute_result"
    }
   ],
   "source": [
    "L3[0:8:2]"
   ]
  },
  {
   "cell_type": "code",
   "execution_count": 40,
   "id": "bad75f91-ebfe-42ee-a10f-958629fc8a8b",
   "metadata": {},
   "outputs": [
    {
     "data": {
      "text/plain": [
       "[1, 2, 3, 4, 5, 6, 7, 8, 9, 10]"
      ]
     },
     "execution_count": 40,
     "metadata": {},
     "output_type": "execute_result"
    }
   ],
   "source": [
    "L3[::]"
   ]
  },
  {
   "cell_type": "code",
   "execution_count": 42,
   "id": "fe536aac-4566-4f51-95f2-aa11461aec96",
   "metadata": {},
   "outputs": [
    {
     "data": {
      "text/plain": [
       "[1, 2, 3, 4, 5, 6, 7, 8, 9, 10]"
      ]
     },
     "execution_count": 42,
     "metadata": {},
     "output_type": "execute_result"
    }
   ],
   "source": [
    "L3[:]"
   ]
  },
  {
   "cell_type": "code",
   "execution_count": 44,
   "id": "48020a66-bd98-4cc3-990c-8e831bee9c05",
   "metadata": {},
   "outputs": [
    {
     "data": {
      "text/plain": [
       "[4, 5, 6, 7, 8, 9, 10]"
      ]
     },
     "execution_count": 44,
     "metadata": {},
     "output_type": "execute_result"
    }
   ],
   "source": [
    "L3[3:]"
   ]
  },
  {
   "cell_type": "code",
   "execution_count": 46,
   "id": "8b6ef10e-4c43-41c2-8c66-3a476ce77fc1",
   "metadata": {},
   "outputs": [
    {
     "data": {
      "text/plain": [
       "[1, 2, 3, 4, 5]"
      ]
     },
     "execution_count": 46,
     "metadata": {},
     "output_type": "execute_result"
    }
   ],
   "source": [
    "L3[:5:]"
   ]
  },
  {
   "cell_type": "code",
   "execution_count": 56,
   "id": "c552aa37-8c45-4d44-9e50-b5df18c2e9b3",
   "metadata": {},
   "outputs": [
    {
     "data": {
      "text/plain": [
       "[10, 9, 8, 7, 6, 5, 4, 3, 2, 1]"
      ]
     },
     "execution_count": 56,
     "metadata": {},
     "output_type": "execute_result"
    }
   ],
   "source": [
    "L3[::-1]"
   ]
  },
  {
   "cell_type": "code",
   "execution_count": 62,
   "id": "e9261530-187d-4b62-a821-4d9cc36307ef",
   "metadata": {},
   "outputs": [
    {
     "data": {
      "text/plain": [
       "list"
      ]
     },
     "execution_count": 62,
     "metadata": {},
     "output_type": "execute_result"
    }
   ],
   "source": [
    "type(L5)"
   ]
  },
  {
   "cell_type": "code",
   "execution_count": 66,
   "id": "6f9e7afe-28ff-42cc-8afa-c7ca49e18050",
   "metadata": {},
   "outputs": [
    {
     "data": {
      "text/plain": [
       "10"
      ]
     },
     "execution_count": 66,
     "metadata": {},
     "output_type": "execute_result"
    }
   ],
   "source": [
    "len(L3)"
   ]
  },
  {
   "cell_type": "code",
   "execution_count": 68,
   "id": "6c2a4f89-69e8-4944-8e67-5449511b701d",
   "metadata": {},
   "outputs": [],
   "source": [
    "## list methods\n",
    "## 1) Append "
   ]
  },
  {
   "cell_type": "code",
   "execution_count": 70,
   "id": "003eb4de-a465-410f-9f5b-96dd8863cc93",
   "metadata": {},
   "outputs": [],
   "source": [
    "L3.append(3)"
   ]
  },
  {
   "cell_type": "code",
   "execution_count": 72,
   "id": "cb8cfa39-232e-4d57-a11c-c3504b641412",
   "metadata": {},
   "outputs": [
    {
     "name": "stdout",
     "output_type": "stream",
     "text": [
      "[1, 2, 3, 4, 5, 6, 7, 8, 9, 10, 3]\n"
     ]
    }
   ],
   "source": [
    "print(L3)"
   ]
  },
  {
   "cell_type": "code",
   "execution_count": 76,
   "id": "58698369-4ddf-4b4e-a1e0-01dd83ef78f4",
   "metadata": {},
   "outputs": [
    {
     "ename": "TypeError",
     "evalue": "list.append() takes exactly one argument (2 given)",
     "output_type": "error",
     "traceback": [
      "\u001b[1;31m---------------------------------------------------------------------------\u001b[0m",
      "\u001b[1;31mTypeError\u001b[0m                                 Traceback (most recent call last)",
      "Cell \u001b[1;32mIn[76], line 1\u001b[0m\n\u001b[1;32m----> 1\u001b[0m L3\u001b[38;5;241m.\u001b[39mappend(\u001b[38;5;241m20\u001b[39m,\u001b[38;5;241m30\u001b[39m)\n",
      "\u001b[1;31mTypeError\u001b[0m: list.append() takes exactly one argument (2 given)"
     ]
    }
   ],
   "source": [
    "L3.append(20,30)"
   ]
  },
  {
   "cell_type": "code",
   "execution_count": 78,
   "id": "0b8ad5c9-def2-4435-876d-c73c56bac0c1",
   "metadata": {},
   "outputs": [],
   "source": [
    "L3.insert(4,34)"
   ]
  },
  {
   "cell_type": "code",
   "execution_count": 80,
   "id": "7d529ad4-cee9-448f-b4a4-c664356c501b",
   "metadata": {},
   "outputs": [
    {
     "data": {
      "text/plain": [
       "[1, 2, 3, 4, 34, 5, 6, 7, 8, 9, 10, 3]"
      ]
     },
     "execution_count": 80,
     "metadata": {},
     "output_type": "execute_result"
    }
   ],
   "source": [
    "L3"
   ]
  },
  {
   "cell_type": "code",
   "execution_count": 82,
   "id": "46ab7266-42fe-4bc2-9fc6-498ba4b632bb",
   "metadata": {},
   "outputs": [
    {
     "ename": "TypeError",
     "evalue": "insert expected 2 arguments, got 1",
     "output_type": "error",
     "traceback": [
      "\u001b[1;31m---------------------------------------------------------------------------\u001b[0m",
      "\u001b[1;31mTypeError\u001b[0m                                 Traceback (most recent call last)",
      "Cell \u001b[1;32mIn[82], line 1\u001b[0m\n\u001b[1;32m----> 1\u001b[0m L3\u001b[38;5;241m.\u001b[39minsert(\u001b[38;5;241m5\u001b[39m)\n",
      "\u001b[1;31mTypeError\u001b[0m: insert expected 2 arguments, got 1"
     ]
    }
   ],
   "source": [
    "L3.insert(5)"
   ]
  },
  {
   "cell_type": "code",
   "execution_count": 84,
   "id": "65c9cd41-19c3-425e-8f33-6111bc7a0468",
   "metadata": {},
   "outputs": [],
   "source": [
    "L3.insert(6,[100,200,300])"
   ]
  },
  {
   "cell_type": "code",
   "execution_count": 86,
   "id": "065e2719-1b6d-4bdd-b317-59818866b2f7",
   "metadata": {},
   "outputs": [
    {
     "data": {
      "text/plain": [
       "[1, 2, 3, 4, 34, 5, [100, 200, 300], 6, 7, 8, 9, 10, 3]"
      ]
     },
     "execution_count": 86,
     "metadata": {},
     "output_type": "execute_result"
    }
   ],
   "source": [
    "L3"
   ]
  },
  {
   "cell_type": "code",
   "execution_count": 88,
   "id": "27d4f95b-c7a4-4491-a6d1-8a1c238ca862",
   "metadata": {},
   "outputs": [
    {
     "ename": "TypeError",
     "evalue": "insert expected 2 arguments, got 3",
     "output_type": "error",
     "traceback": [
      "\u001b[1;31m---------------------------------------------------------------------------\u001b[0m",
      "\u001b[1;31mTypeError\u001b[0m                                 Traceback (most recent call last)",
      "Cell \u001b[1;32mIn[88], line 1\u001b[0m\n\u001b[1;32m----> 1\u001b[0m L3\u001b[38;5;241m.\u001b[39minsert(\u001b[38;5;241m4\u001b[39m,\u001b[38;5;241m100\u001b[39m,\u001b[38;5;241m20\u001b[39m)\n",
      "\u001b[1;31mTypeError\u001b[0m: insert expected 2 arguments, got 3"
     ]
    }
   ],
   "source": [
    "L3.insert(4,100,20)"
   ]
  },
  {
   "cell_type": "code",
   "execution_count": 96,
   "id": "fe2fc6bd-aa47-4429-b36f-8620fd2ac1d7",
   "metadata": {},
   "outputs": [],
   "source": [
    "L3.extend([20,34,54,67,234])"
   ]
  },
  {
   "cell_type": "code",
   "execution_count": 98,
   "id": "73aad78a-82a7-40fd-9bfa-5463de0af832",
   "metadata": {},
   "outputs": [
    {
     "data": {
      "text/plain": [
       "[1,\n",
       " 2,\n",
       " 3,\n",
       " 4,\n",
       " 34,\n",
       " 5,\n",
       " [100, 200, 300],\n",
       " 6,\n",
       " 7,\n",
       " 8,\n",
       " 9,\n",
       " 10,\n",
       " 3,\n",
       " 20,\n",
       " 34,\n",
       " 54,\n",
       " 67,\n",
       " 234,\n",
       " 20,\n",
       " 34,\n",
       " 54,\n",
       " 67,\n",
       " 234]"
      ]
     },
     "execution_count": 98,
     "metadata": {},
     "output_type": "execute_result"
    }
   ],
   "source": [
    "L3"
   ]
  },
  {
   "cell_type": "code",
   "execution_count": 100,
   "id": "55c37c8f-2527-468c-8351-bfcaf6b599d2",
   "metadata": {},
   "outputs": [
    {
     "ename": "TypeError",
     "evalue": "'int' object is not iterable",
     "output_type": "error",
     "traceback": [
      "\u001b[1;31m---------------------------------------------------------------------------\u001b[0m",
      "\u001b[1;31mTypeError\u001b[0m                                 Traceback (most recent call last)",
      "Cell \u001b[1;32mIn[100], line 1\u001b[0m\n\u001b[1;32m----> 1\u001b[0m L3\u001b[38;5;241m.\u001b[39mextend(\u001b[38;5;241m34\u001b[39m)\n",
      "\u001b[1;31mTypeError\u001b[0m: 'int' object is not iterable"
     ]
    }
   ],
   "source": [
    "L3.extend(34)"
   ]
  },
  {
   "cell_type": "code",
   "execution_count": 104,
   "id": "64833220-3319-4729-b57a-c967a49e9160",
   "metadata": {},
   "outputs": [],
   "source": [
    "L3.extend([34])"
   ]
  },
  {
   "cell_type": "code",
   "execution_count": 106,
   "id": "7448bb28-83c6-4e58-8523-3dcb001e6ace",
   "metadata": {},
   "outputs": [
    {
     "data": {
      "text/plain": [
       "[1,\n",
       " 2,\n",
       " 3,\n",
       " 4,\n",
       " 34,\n",
       " 5,\n",
       " [100, 200, 300],\n",
       " 6,\n",
       " 7,\n",
       " 8,\n",
       " 9,\n",
       " 10,\n",
       " 3,\n",
       " 20,\n",
       " 34,\n",
       " 54,\n",
       " 67,\n",
       " 234,\n",
       " 20,\n",
       " 34,\n",
       " 54,\n",
       " 67,\n",
       " 234,\n",
       " 34]"
      ]
     },
     "execution_count": 106,
     "metadata": {},
     "output_type": "execute_result"
    }
   ],
   "source": [
    "L3"
   ]
  },
  {
   "cell_type": "code",
   "execution_count": 108,
   "id": "8c572248-75ad-4cfa-b2fd-ebba7c19005c",
   "metadata": {},
   "outputs": [
    {
     "data": {
      "text/plain": [
       "4"
      ]
     },
     "execution_count": 108,
     "metadata": {},
     "output_type": "execute_result"
    }
   ],
   "source": [
    "L3.pop(3)"
   ]
  },
  {
   "cell_type": "code",
   "execution_count": 110,
   "id": "e1c2600a-0500-4041-af9d-3e9931ba340c",
   "metadata": {},
   "outputs": [
    {
     "data": {
      "text/plain": [
       "[1,\n",
       " 2,\n",
       " 3,\n",
       " 34,\n",
       " 5,\n",
       " [100, 200, 300],\n",
       " 6,\n",
       " 7,\n",
       " 8,\n",
       " 9,\n",
       " 10,\n",
       " 3,\n",
       " 20,\n",
       " 34,\n",
       " 54,\n",
       " 67,\n",
       " 234,\n",
       " 20,\n",
       " 34,\n",
       " 54,\n",
       " 67,\n",
       " 234,\n",
       " 34]"
      ]
     },
     "execution_count": 110,
     "metadata": {},
     "output_type": "execute_result"
    }
   ],
   "source": [
    "L3"
   ]
  },
  {
   "cell_type": "code",
   "execution_count": 112,
   "id": "8a303c4c-e21e-46c3-9b35-be5dbded34bd",
   "metadata": {},
   "outputs": [
    {
     "data": {
      "text/plain": [
       "34"
      ]
     },
     "execution_count": 112,
     "metadata": {},
     "output_type": "execute_result"
    }
   ],
   "source": [
    "L3.pop()"
   ]
  },
  {
   "cell_type": "code",
   "execution_count": 114,
   "id": "167fe26e-7785-4b10-aa70-68848395c961",
   "metadata": {},
   "outputs": [
    {
     "data": {
      "text/plain": [
       "[1,\n",
       " 2,\n",
       " 3,\n",
       " 34,\n",
       " 5,\n",
       " [100, 200, 300],\n",
       " 6,\n",
       " 7,\n",
       " 8,\n",
       " 9,\n",
       " 10,\n",
       " 3,\n",
       " 20,\n",
       " 34,\n",
       " 54,\n",
       " 67,\n",
       " 234,\n",
       " 20,\n",
       " 34,\n",
       " 54,\n",
       " 67,\n",
       " 234]"
      ]
     },
     "execution_count": 114,
     "metadata": {},
     "output_type": "execute_result"
    }
   ],
   "source": [
    "L3"
   ]
  },
  {
   "cell_type": "code",
   "execution_count": 120,
   "id": "a94f441e-4f1e-4ebd-b4f4-ef3d751af418",
   "metadata": {},
   "outputs": [],
   "source": [
    "L3.remove(5) ## here 5 is not index its a value"
   ]
  },
  {
   "cell_type": "code",
   "execution_count": 122,
   "id": "fe7ac008-b9a0-4bfe-9bcf-3b8703039b33",
   "metadata": {},
   "outputs": [
    {
     "data": {
      "text/plain": [
       "[1,\n",
       " 2,\n",
       " 3,\n",
       " 34,\n",
       " [100, 200, 300],\n",
       " 6,\n",
       " 7,\n",
       " 8,\n",
       " 9,\n",
       " 10,\n",
       " 3,\n",
       " 20,\n",
       " 34,\n",
       " 54,\n",
       " 67,\n",
       " 234,\n",
       " 20,\n",
       " 34,\n",
       " 54,\n",
       " 67,\n",
       " 234]"
      ]
     },
     "execution_count": 122,
     "metadata": {},
     "output_type": "execute_result"
    }
   ],
   "source": [
    "L3"
   ]
  },
  {
   "cell_type": "code",
   "execution_count": 124,
   "id": "428a5e4e-413c-4ac3-8c41-53a9c2617fd8",
   "metadata": {},
   "outputs": [],
   "source": [
    "L3.remove(234)"
   ]
  },
  {
   "cell_type": "code",
   "execution_count": 126,
   "id": "5470af0e-1a99-4c5e-a16b-eeb7dbd709ff",
   "metadata": {},
   "outputs": [
    {
     "data": {
      "text/plain": [
       "[1,\n",
       " 2,\n",
       " 3,\n",
       " 34,\n",
       " [100, 200, 300],\n",
       " 6,\n",
       " 7,\n",
       " 8,\n",
       " 9,\n",
       " 10,\n",
       " 3,\n",
       " 20,\n",
       " 34,\n",
       " 54,\n",
       " 67,\n",
       " 20,\n",
       " 34,\n",
       " 54,\n",
       " 67,\n",
       " 234]"
      ]
     },
     "execution_count": 126,
     "metadata": {},
     "output_type": "execute_result"
    }
   ],
   "source": [
    "L3"
   ]
  },
  {
   "cell_type": "code",
   "execution_count": 130,
   "id": "e9601adc-4414-481c-bbc4-02f7eeb8f4f5",
   "metadata": {},
   "outputs": [],
   "source": [
    "del(L3[6])"
   ]
  },
  {
   "cell_type": "code",
   "execution_count": 132,
   "id": "4f4e59f5-6dd4-42e8-a5e8-1961b2cdb360",
   "metadata": {},
   "outputs": [
    {
     "data": {
      "text/plain": [
       "[1,\n",
       " 2,\n",
       " 3,\n",
       " 34,\n",
       " [100, 200, 300],\n",
       " 6,\n",
       " 8,\n",
       " 9,\n",
       " 10,\n",
       " 3,\n",
       " 20,\n",
       " 34,\n",
       " 54,\n",
       " 67,\n",
       " 20,\n",
       " 34,\n",
       " 54,\n",
       " 67,\n",
       " 234]"
      ]
     },
     "execution_count": 132,
     "metadata": {},
     "output_type": "execute_result"
    }
   ],
   "source": [
    "L3"
   ]
  },
  {
   "cell_type": "code",
   "execution_count": 138,
   "id": "60449a2a-9ce2-4ca3-92bb-e8503e3d186b",
   "metadata": {},
   "outputs": [
    {
     "name": "stdout",
     "output_type": "stream",
     "text": [
      "\f",
      "\n"
     ]
    }
   ],
   "source": [
    "clear(L3)"
   ]
  },
  {
   "cell_type": "code",
   "execution_count": 140,
   "id": "17bbeecc-ee25-4c9e-b076-1700c6d6e73c",
   "metadata": {},
   "outputs": [],
   "source": [
    "del(L3)"
   ]
  },
  {
   "cell_type": "code",
   "execution_count": 142,
   "id": "7c0074e6-e161-47a3-b47c-aed4ca0c1a92",
   "metadata": {},
   "outputs": [
    {
     "ename": "NameError",
     "evalue": "name 'L3' is not defined",
     "output_type": "error",
     "traceback": [
      "\u001b[1;31m---------------------------------------------------------------------------\u001b[0m",
      "\u001b[1;31mNameError\u001b[0m                                 Traceback (most recent call last)",
      "Cell \u001b[1;32mIn[142], line 1\u001b[0m\n\u001b[1;32m----> 1\u001b[0m L3\n",
      "\u001b[1;31mNameError\u001b[0m: name 'L3' is not defined"
     ]
    }
   ],
   "source": [
    "L3"
   ]
  },
  {
   "cell_type": "code",
   "execution_count": 146,
   "id": "f2034d51-9b97-47f4-b738-38a8d9240d8d",
   "metadata": {},
   "outputs": [],
   "source": [
    "L4.clear()"
   ]
  },
  {
   "cell_type": "markdown",
   "id": "3b43cc33-805c-4edc-9876-e99a673df5b7",
   "metadata": {},
   "source": [
    "L4"
   ]
  },
  {
   "cell_type": "code",
   "execution_count": 159,
   "id": "1b0805e9-43ca-471f-ac1a-4e4053d356a5",
   "metadata": {},
   "outputs": [
    {
     "data": {
      "text/plain": [
       "[3, 5, 6, 'srs', True, 4.5]"
      ]
     },
     "execution_count": 159,
     "metadata": {},
     "output_type": "execute_result"
    }
   ],
   "source": [
    "L5"
   ]
  },
  {
   "cell_type": "code",
   "execution_count": 161,
   "id": "05158f55-ebad-415d-8743-45b328344c86",
   "metadata": {},
   "outputs": [],
   "source": [
    "L5[4]=\"res\""
   ]
  },
  {
   "cell_type": "code",
   "execution_count": 163,
   "id": "e9b221dd-1668-4206-a240-230976b1ca6a",
   "metadata": {},
   "outputs": [
    {
     "data": {
      "text/plain": [
       "[3, 5, 6, 'srs', 'res', 4.5]"
      ]
     },
     "execution_count": 163,
     "metadata": {},
     "output_type": "execute_result"
    }
   ],
   "source": [
    "L5"
   ]
  },
  {
   "cell_type": "code",
   "execution_count": 165,
   "id": "0a8e4995-85ff-4fe0-88b6-25e6a97c885a",
   "metadata": {},
   "outputs": [],
   "source": [
    "L3=[1,2,3,4]"
   ]
  },
  {
   "cell_type": "code",
   "execution_count": 167,
   "id": "43c25f62-c7d5-4918-9041-643b7828a746",
   "metadata": {},
   "outputs": [],
   "source": [
    "L4=[5,6,7,8]"
   ]
  },
  {
   "cell_type": "code",
   "execution_count": 169,
   "id": "9205a5cb-cbda-4432-bec3-6ac5c86eac45",
   "metadata": {},
   "outputs": [],
   "source": [
    "L2=L3+L4"
   ]
  },
  {
   "cell_type": "code",
   "execution_count": 171,
   "id": "ced4fe5b-5cc5-4b97-a756-513e661347c0",
   "metadata": {},
   "outputs": [
    {
     "data": {
      "text/plain": [
       "[1, 2, 3, 4, 5, 6, 7, 8]"
      ]
     },
     "execution_count": 171,
     "metadata": {},
     "output_type": "execute_result"
    }
   ],
   "source": [
    "L2"
   ]
  },
  {
   "cell_type": "code",
   "execution_count": 173,
   "id": "1a2a17ba-28c3-4910-b0ce-73548d564c09",
   "metadata": {},
   "outputs": [
    {
     "data": {
      "text/plain": [
       "True"
      ]
     },
     "execution_count": 173,
     "metadata": {},
     "output_type": "execute_result"
    }
   ],
   "source": [
    "3 in L3"
   ]
  },
  {
   "cell_type": "code",
   "execution_count": 175,
   "id": "146965c4-5dc3-442d-8e40-4ca6e516fa11",
   "metadata": {},
   "outputs": [
    {
     "data": {
      "text/plain": [
       "False"
      ]
     },
     "execution_count": 175,
     "metadata": {},
     "output_type": "execute_result"
    }
   ],
   "source": [
    "100 in L3"
   ]
  },
  {
   "cell_type": "code",
   "execution_count": 177,
   "id": "9d249843-96e6-424e-a0af-278d15896748",
   "metadata": {},
   "outputs": [
    {
     "data": {
      "text/plain": [
       "False"
      ]
     },
     "execution_count": 177,
     "metadata": {},
     "output_type": "execute_result"
    }
   ],
   "source": [
    "3 not in L3"
   ]
  },
  {
   "cell_type": "code",
   "execution_count": 181,
   "id": "4876f571-bbc8-45ce-99a4-7e3dc888caec",
   "metadata": {},
   "outputs": [
    {
     "data": {
      "text/plain": [
       "[1, 2, 3, 4, 5, 6, 7, 8]"
      ]
     },
     "execution_count": 181,
     "metadata": {},
     "output_type": "execute_result"
    }
   ],
   "source": [
    "L2.reverse()\n",
    "L2"
   ]
  },
  {
   "cell_type": "code",
   "execution_count": 183,
   "id": "2c2ee3b0-b362-4165-bfa5-6adc0c3ce931",
   "metadata": {},
   "outputs": [
    {
     "data": {
      "text/plain": [
       "[1, 2, 3, 4, 5, 6, 7, 8]"
      ]
     },
     "execution_count": 183,
     "metadata": {},
     "output_type": "execute_result"
    }
   ],
   "source": [
    "L2"
   ]
  },
  {
   "cell_type": "code",
   "execution_count": 185,
   "id": "55016e55-d25a-4511-9edd-a35f91a28dbf",
   "metadata": {},
   "outputs": [],
   "source": [
    "L2.reverse()"
   ]
  },
  {
   "cell_type": "code",
   "execution_count": 187,
   "id": "6dbf7ae3-1d64-45e2-93eb-97ba3f0c6790",
   "metadata": {},
   "outputs": [
    {
     "data": {
      "text/plain": [
       "[8, 7, 6, 5, 4, 3, 2, 1]"
      ]
     },
     "execution_count": 187,
     "metadata": {},
     "output_type": "execute_result"
    }
   ],
   "source": [
    "L2"
   ]
  },
  {
   "cell_type": "code",
   "execution_count": 201,
   "id": "5395f74a-fa3a-4d0b-aa7b-ac4ce28dfc07",
   "metadata": {},
   "outputs": [],
   "source": [
    "## reversing a string\n",
    "lst=[]\n",
    "for i in range(L2[-1],-1,-1):\n",
    "    lst.append(L2[i])"
   ]
  },
  {
   "cell_type": "code",
   "execution_count": null,
   "id": "d9c49bb6-8dc3-468f-b973-74c11d6fe950",
   "metadata": {},
   "outputs": [],
   "source": [
    "## assignment \n",
    "## create a notebook of list methods and add input and output for all the methods and print the outputs as defined \n"
   ]
  },
  {
   "cell_type": "code",
   "execution_count": 203,
   "id": "d7bb4ee4-09ff-49c1-9cac-c206d73bd2d8",
   "metadata": {},
   "outputs": [
    {
     "data": {
      "text/plain": [
       "[7, 8]"
      ]
     },
     "execution_count": 203,
     "metadata": {},
     "output_type": "execute_result"
    }
   ],
   "source": [
    "lst"
   ]
  },
  {
   "cell_type": "code",
   "execution_count": null,
   "id": "d6abd64a-8d85-4ff1-a9d0-3f615d8c18be",
   "metadata": {},
   "outputs": [],
   "source": []
  }
 ],
 "metadata": {
  "kernelspec": {
   "display_name": "Python 3 (ipykernel)",
   "language": "python",
   "name": "python3"
  },
  "language_info": {
   "codemirror_mode": {
    "name": "ipython",
    "version": 3
   },
   "file_extension": ".py",
   "mimetype": "text/x-python",
   "name": "python",
   "nbconvert_exporter": "python",
   "pygments_lexer": "ipython3",
   "version": "3.12.4"
  }
 },
 "nbformat": 4,
 "nbformat_minor": 5
}

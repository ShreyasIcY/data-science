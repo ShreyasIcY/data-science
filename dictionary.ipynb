{
 "cells": [
  {
   "cell_type": "markdown",
   "id": "1071278c-dfbb-41ac-8790-09f750c16876",
   "metadata": {},
   "source": [
    "# dictionary"
   ]
  },
  {
   "cell_type": "code",
   "execution_count": 3,
   "id": "c8320748-f81e-45e5-84fe-6e7012321216",
   "metadata": {},
   "outputs": [],
   "source": [
    "## key and value pairs are seperated by :\n",
    "## pairs are seperated by ,\n",
    "## all pairs are enclosed in {}\n",
    "## d2={} or d2= dict()\n",
    "## d1.keys() for keys \n",
    "## d1.values for values\n",
    "## d1.items for all items in dict\n",
    "## d1={key:value,key2:value2} reperesentation  of dictionary\n",
    "## keys are unique values "
   ]
  },
  {
   "cell_type": "code",
   "execution_count": 11,
   "id": "c12eed66-1cc7-4da3-8ae8-00df9dac9a6a",
   "metadata": {},
   "outputs": [],
   "source": [
    "d1={1:\"name1\", 2:\"name2\", 3:\"name3\", 4:\"name4\"}"
   ]
  },
  {
   "cell_type": "code",
   "execution_count": 15,
   "id": "ae3bc936-73b4-472b-9e0c-409849012779",
   "metadata": {},
   "outputs": [
    {
     "data": {
      "text/plain": [
       "dict_keys([1, 2, 3, 4])"
      ]
     },
     "execution_count": 15,
     "metadata": {},
     "output_type": "execute_result"
    }
   ],
   "source": [
    "d1.keys()"
   ]
  },
  {
   "cell_type": "code",
   "execution_count": 19,
   "id": "2c55b4ca-d03f-4cfb-99c2-b8c4ca035886",
   "metadata": {},
   "outputs": [
    {
     "data": {
      "text/plain": [
       "dict_values(['name1', 'name2', 'name3', 'name4'])"
      ]
     },
     "execution_count": 19,
     "metadata": {},
     "output_type": "execute_result"
    }
   ],
   "source": [
    "d1.values()"
   ]
  },
  {
   "cell_type": "code",
   "execution_count": 21,
   "id": "040e9471-3946-43ef-8fd0-cf124f6e26fd",
   "metadata": {},
   "outputs": [
    {
     "data": {
      "text/plain": [
       "'name4'"
      ]
     },
     "execution_count": 21,
     "metadata": {},
     "output_type": "execute_result"
    }
   ],
   "source": [
    "d1[4]"
   ]
  },
  {
   "cell_type": "code",
   "execution_count": 25,
   "id": "eb41d064-5a97-4b7c-ae5f-8ec90aa842ed",
   "metadata": {},
   "outputs": [
    {
     "data": {
      "text/plain": [
       "dict_items([(1, 'name1'), (2, 'name2'), (3, 'name3'), (4, 'name4')])"
      ]
     },
     "execution_count": 25,
     "metadata": {},
     "output_type": "execute_result"
    }
   ],
   "source": [
    "d1.items()"
   ]
  },
  {
   "cell_type": "code",
   "execution_count": 30,
   "id": "acb7c40b-611c-4385-a8ba-293e9169f1cc",
   "metadata": {},
   "outputs": [],
   "source": [
    "d2={0:{'one':1,'two':2,'three':3,'four':4},1:{'city':'banglore','area':'kudlu'},'two':{'city':'mumbai','area':'dharavi'}}"
   ]
  },
  {
   "cell_type": "code",
   "execution_count": 34,
   "id": "44d2b2ff-a8f9-4329-b574-5fc79c933ba9",
   "metadata": {},
   "outputs": [
    {
     "data": {
      "text/plain": [
       "'kudlu'"
      ]
     },
     "execution_count": 34,
     "metadata": {},
     "output_type": "execute_result"
    }
   ],
   "source": [
    "d2[1]['area']"
   ]
  },
  {
   "cell_type": "code",
   "execution_count": 40,
   "id": "82a86fe4-3434-4202-87a4-efc0e3c2eb4b",
   "metadata": {},
   "outputs": [
    {
     "data": {
      "text/plain": [
       "'dharavi'"
      ]
     },
     "execution_count": 40,
     "metadata": {},
     "output_type": "execute_result"
    }
   ],
   "source": [
    "d2['two']['area']"
   ]
  },
  {
   "cell_type": "code",
   "execution_count": 46,
   "id": "2251a0d6-9266-4a56-a79b-d44dab52db9f",
   "metadata": {},
   "outputs": [],
   "source": [
    "d3=[0,1,2,3,[8,{5:[67,89,90,{'area':'kudlu','city':'banglore'}]}]]"
   ]
  },
  {
   "cell_type": "code",
   "execution_count": 48,
   "id": "2407e10c-7534-4595-84bb-a0a784efa463",
   "metadata": {},
   "outputs": [
    {
     "data": {
      "text/plain": [
       "3"
      ]
     },
     "execution_count": 48,
     "metadata": {},
     "output_type": "execute_result"
    }
   ],
   "source": [
    "d3[3]"
   ]
  },
  {
   "cell_type": "code",
   "execution_count": 50,
   "id": "423923c0-ff68-492b-97ea-7dec91cd00a3",
   "metadata": {},
   "outputs": [
    {
     "data": {
      "text/plain": [
       "{5: [67, 89, 90, {'area': 'kudlu', 'city': 'banglore'}]}"
      ]
     },
     "execution_count": 50,
     "metadata": {},
     "output_type": "execute_result"
    }
   ],
   "source": [
    "d3[4][1]"
   ]
  },
  {
   "cell_type": "code",
   "execution_count": 54,
   "id": "d8a114b3-55b8-4f16-97b8-0c81da06567e",
   "metadata": {},
   "outputs": [
    {
     "data": {
      "text/plain": [
       "90"
      ]
     },
     "execution_count": 54,
     "metadata": {},
     "output_type": "execute_result"
    }
   ],
   "source": [
    "d3[4][1][5][2]"
   ]
  },
  {
   "cell_type": "code",
   "execution_count": 56,
   "id": "5d694545-e896-461c-b0a7-ea6b5c7a5abb",
   "metadata": {},
   "outputs": [],
   "source": [
    "## adding a value....... using update keyword it updates the existing values as well as adds a new value"
   ]
  },
  {
   "cell_type": "code",
   "execution_count": 58,
   "id": "9a694050-2d09-408b-850c-09a1e33a6a39",
   "metadata": {},
   "outputs": [],
   "source": [
    "d1.update({3:'three'})"
   ]
  },
  {
   "cell_type": "code",
   "execution_count": 60,
   "id": "b70b46d2-de03-4839-a52b-25c7199a49ff",
   "metadata": {},
   "outputs": [
    {
     "data": {
      "text/plain": [
       "{1: 'name1', 2: 'name2', 3: 'three', 4: 'name4'}"
      ]
     },
     "execution_count": 60,
     "metadata": {},
     "output_type": "execute_result"
    }
   ],
   "source": [
    "d1"
   ]
  },
  {
   "cell_type": "code",
   "execution_count": 62,
   "id": "c3db8734-727f-4268-a003-2d00fdfcaa2c",
   "metadata": {},
   "outputs": [],
   "source": [
    "d1.update({5:'shreyas'})"
   ]
  },
  {
   "cell_type": "code",
   "execution_count": 64,
   "id": "d68648b0-8541-46ea-9914-c20c6f82eebc",
   "metadata": {},
   "outputs": [
    {
     "data": {
      "text/plain": [
       "{1: 'name1', 2: 'name2', 3: 'three', 4: 'name4', 5: 'shreyas'}"
      ]
     },
     "execution_count": 64,
     "metadata": {},
     "output_type": "execute_result"
    }
   ],
   "source": [
    "d1"
   ]
  },
  {
   "cell_type": "code",
   "execution_count": 66,
   "id": "7e939e58-75e0-41ed-b748-ff33cd123fca",
   "metadata": {},
   "outputs": [
    {
     "data": {
      "text/plain": [
       "'name2'"
      ]
     },
     "execution_count": 66,
     "metadata": {},
     "output_type": "execute_result"
    }
   ],
   "source": [
    "d1.pop(2) ## have to give key in brackets"
   ]
  },
  {
   "cell_type": "code",
   "execution_count": 68,
   "id": "e8eb97c8-fb92-401f-9d8e-7016d0bd255f",
   "metadata": {},
   "outputs": [
    {
     "data": {
      "text/plain": [
       "{1: 'name1', 3: 'three', 4: 'name4', 5: 'shreyas'}"
      ]
     },
     "execution_count": 68,
     "metadata": {},
     "output_type": "execute_result"
    }
   ],
   "source": [
    "d1"
   ]
  },
  {
   "cell_type": "code",
   "execution_count": 70,
   "id": "1abb06a7-3c8d-4220-9aac-8cdc899a0466",
   "metadata": {},
   "outputs": [
    {
     "data": {
      "text/plain": [
       "(5, 'shreyas')"
      ]
     },
     "execution_count": 70,
     "metadata": {},
     "output_type": "execute_result"
    }
   ],
   "source": [
    "d1.popitem()"
   ]
  },
  {
   "cell_type": "code",
   "execution_count": 72,
   "id": "22762332-27b9-4c4b-89c1-5340737f18fe",
   "metadata": {},
   "outputs": [
    {
     "data": {
      "text/plain": [
       "{1: 'name1', 3: 'three', 4: 'name4'}"
      ]
     },
     "execution_count": 72,
     "metadata": {},
     "output_type": "execute_result"
    }
   ],
   "source": [
    "d1"
   ]
  },
  {
   "cell_type": "code",
   "execution_count": 84,
   "id": "d8be9fc6-866c-4c5a-9715-2b62c32c7010",
   "metadata": {},
   "outputs": [],
   "source": [
    "del d2['two'] "
   ]
  },
  {
   "cell_type": "code",
   "execution_count": 86,
   "id": "f59ba462-9343-4863-af3d-fc957a24f6e7",
   "metadata": {},
   "outputs": [
    {
     "data": {
      "text/plain": [
       "{0: {'one': 1, 'two': 2, 'three': 3, 'four': 4},\n",
       " 1: {'city': 'banglore', 'area': 'kudlu'}}"
      ]
     },
     "execution_count": 86,
     "metadata": {},
     "output_type": "execute_result"
    }
   ],
   "source": [
    "d2"
   ]
  },
  {
   "cell_type": "code",
   "execution_count": 90,
   "id": "4259aba1-7660-49a4-ad0b-474aa8d4645e",
   "metadata": {},
   "outputs": [],
   "source": [
    "del d1[4]"
   ]
  },
  {
   "cell_type": "code",
   "execution_count": null,
   "id": "e4171d4d-9785-493f-b436-daee9fa86259",
   "metadata": {},
   "outputs": [],
   "source": []
  },
  {
   "cell_type": "code",
   "execution_count": 93,
   "id": "55379722-640f-4b51-a530-7b7c9ec7e1e4",
   "metadata": {},
   "outputs": [
    {
     "data": {
      "text/plain": [
       "{1: 'name1', 3: 'three'}"
      ]
     },
     "execution_count": 93,
     "metadata": {},
     "output_type": "execute_result"
    }
   ],
   "source": [
    "d1"
   ]
  },
  {
   "cell_type": "code",
   "execution_count": 99,
   "id": "28f2f94f-4bd2-476d-a823-d273050ec04a",
   "metadata": {},
   "outputs": [
    {
     "ename": "TypeError",
     "evalue": "'str' object doesn't support item deletion",
     "output_type": "error",
     "traceback": [
      "\u001b[1;31m---------------------------------------------------------------------------\u001b[0m",
      "\u001b[1;31mTypeError\u001b[0m                                 Traceback (most recent call last)",
      "Cell \u001b[1;32mIn[99], line 1\u001b[0m\n\u001b[1;32m----> 1\u001b[0m \u001b[38;5;28;01mdel\u001b[39;00m d1[\u001b[38;5;241m3\u001b[39m][\u001b[38;5;241m0\u001b[39m]\n",
      "\u001b[1;31mTypeError\u001b[0m: 'str' object doesn't support item deletion"
     ]
    }
   ],
   "source": [
    "del d1[3][0]"
   ]
  },
  {
   "cell_type": "code",
   "execution_count": null,
   "id": "e812495d-b0c7-4f5b-b9d8-beba0844c1fd",
   "metadata": {},
   "outputs": [],
   "source": []
  }
 ],
 "metadata": {
  "kernelspec": {
   "display_name": "Python 3 (ipykernel)",
   "language": "python",
   "name": "python3"
  },
  "language_info": {
   "codemirror_mode": {
    "name": "ipython",
    "version": 3
   },
   "file_extension": ".py",
   "mimetype": "text/x-python",
   "name": "python",
   "nbconvert_exporter": "python",
   "pygments_lexer": "ipython3",
   "version": "3.12.4"
  }
 },
 "nbformat": 4,
 "nbformat_minor": 5
}
